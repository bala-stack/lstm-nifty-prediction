{
 "cells": [
  {
   "cell_type": "markdown",
   "metadata": {},
   "source": [
    "### Stock Market Prediction And Forecasting Using Stacked LSTM"
   ]
  },
  {
   "cell_type": "code",
   "execution_count": null,
   "metadata": {},
   "outputs": [],
   "source": [
    "### Keras and Tensorflow >2.0"
   ]
  },
  {
   "cell_type": "code",
   "execution_count": 5,
   "metadata": {},
   "outputs": [],
   "source": [
    "### Data Collection\n",
    "# import pandas_datareader as pdr\n",
    "# key=\"c9e75f30a86baea1b8928b7226aeb746a0d18797\""
   ]
  },
  {
   "cell_type": "code",
   "execution_count": 9,
   "metadata": {},
   "outputs": [],
   "source": [
    "# df = pdr.get_data_tiingo('AAPL', api_key=key)"
   ]
  },
  {
   "cell_type": "code",
   "execution_count": 10,
   "metadata": {},
   "outputs": [],
   "source": [
    "# df.to_csv('NIFTY.csv')"
   ]
  },
  {
   "cell_type": "code",
   "execution_count": 120,
   "metadata": {},
   "outputs": [],
   "source": [
    "import pandas as pd"
   ]
  },
  {
   "cell_type": "code",
   "execution_count": 121,
   "metadata": {},
   "outputs": [],
   "source": [
    "df=pd.read_csv('nifty.csv')"
   ]
  },
  {
   "cell_type": "code",
   "execution_count": 122,
   "metadata": {},
   "outputs": [
    {
     "data": {
      "text/html": [
       "<div>\n",
       "<style scoped>\n",
       "    .dataframe tbody tr th:only-of-type {\n",
       "        vertical-align: middle;\n",
       "    }\n",
       "\n",
       "    .dataframe tbody tr th {\n",
       "        vertical-align: top;\n",
       "    }\n",
       "\n",
       "    .dataframe thead th {\n",
       "        text-align: right;\n",
       "    }\n",
       "</style>\n",
       "<table border=\"1\" class=\"dataframe\">\n",
       "  <thead>\n",
       "    <tr style=\"text-align: right;\">\n",
       "      <th></th>\n",
       "      <th>Date</th>\n",
       "      <th>Open</th>\n",
       "      <th>High</th>\n",
       "      <th>Low</th>\n",
       "      <th>Close</th>\n",
       "      <th>Volume</th>\n",
       "    </tr>\n",
       "  </thead>\n",
       "  <tbody>\n",
       "    <tr>\n",
       "      <th>0</th>\n",
       "      <td>03-Jan-05</td>\n",
       "      <td>2080.00</td>\n",
       "      <td>2118.60</td>\n",
       "      <td>2080.00</td>\n",
       "      <td>2115.0</td>\n",
       "      <td>161679423</td>\n",
       "    </tr>\n",
       "    <tr>\n",
       "      <th>1</th>\n",
       "      <td>04-Jan-05</td>\n",
       "      <td>2116.95</td>\n",
       "      <td>2120.15</td>\n",
       "      <td>2100.55</td>\n",
       "      <td>2103.7</td>\n",
       "      <td>161679423</td>\n",
       "    </tr>\n",
       "    <tr>\n",
       "      <th>2</th>\n",
       "      <td>05-Jan-05</td>\n",
       "      <td>2103.75</td>\n",
       "      <td>2105.10</td>\n",
       "      <td>1990.15</td>\n",
       "      <td>2032.2</td>\n",
       "      <td>161679423</td>\n",
       "    </tr>\n",
       "    <tr>\n",
       "      <th>3</th>\n",
       "      <td>06-Jan-05</td>\n",
       "      <td>2031.55</td>\n",
       "      <td>2035.65</td>\n",
       "      <td>1984.25</td>\n",
       "      <td>1998.3</td>\n",
       "      <td>161679423</td>\n",
       "    </tr>\n",
       "    <tr>\n",
       "      <th>4</th>\n",
       "      <td>07-Jan-05</td>\n",
       "      <td>1998.25</td>\n",
       "      <td>2021.45</td>\n",
       "      <td>1992.55</td>\n",
       "      <td>2015.5</td>\n",
       "      <td>161679423</td>\n",
       "    </tr>\n",
       "  </tbody>\n",
       "</table>\n",
       "</div>"
      ],
      "text/plain": [
       "        Date     Open     High      Low   Close     Volume\n",
       "0  03-Jan-05  2080.00  2118.60  2080.00  2115.0  161679423\n",
       "1  04-Jan-05  2116.95  2120.15  2100.55  2103.7  161679423\n",
       "2  05-Jan-05  2103.75  2105.10  1990.15  2032.2  161679423\n",
       "3  06-Jan-05  2031.55  2035.65  1984.25  1998.3  161679423\n",
       "4  07-Jan-05  1998.25  2021.45  1992.55  2015.5  161679423"
      ]
     },
     "execution_count": 122,
     "metadata": {},
     "output_type": "execute_result"
    }
   ],
   "source": [
    "df.head()"
   ]
  },
  {
   "cell_type": "code",
   "execution_count": 123,
   "metadata": {},
   "outputs": [
    {
     "data": {
      "text/html": [
       "<div>\n",
       "<style scoped>\n",
       "    .dataframe tbody tr th:only-of-type {\n",
       "        vertical-align: middle;\n",
       "    }\n",
       "\n",
       "    .dataframe tbody tr th {\n",
       "        vertical-align: top;\n",
       "    }\n",
       "\n",
       "    .dataframe thead th {\n",
       "        text-align: right;\n",
       "    }\n",
       "</style>\n",
       "<table border=\"1\" class=\"dataframe\">\n",
       "  <thead>\n",
       "    <tr style=\"text-align: right;\">\n",
       "      <th></th>\n",
       "      <th>Date</th>\n",
       "      <th>Open</th>\n",
       "      <th>High</th>\n",
       "      <th>Low</th>\n",
       "      <th>Close</th>\n",
       "      <th>Volume</th>\n",
       "    </tr>\n",
       "  </thead>\n",
       "  <tbody>\n",
       "    <tr>\n",
       "      <th>3977</th>\n",
       "      <td>23-Dec-21</td>\n",
       "      <td>17066.80</td>\n",
       "      <td>17118.65</td>\n",
       "      <td>17015.55</td>\n",
       "      <td>17072.60</td>\n",
       "      <td>161679423</td>\n",
       "    </tr>\n",
       "    <tr>\n",
       "      <th>3978</th>\n",
       "      <td>24-Dec-21</td>\n",
       "      <td>17149.50</td>\n",
       "      <td>17155.60</td>\n",
       "      <td>16909.60</td>\n",
       "      <td>17003.75</td>\n",
       "      <td>161679423</td>\n",
       "    </tr>\n",
       "    <tr>\n",
       "      <th>3979</th>\n",
       "      <td>27-Dec-21</td>\n",
       "      <td>16937.75</td>\n",
       "      <td>17112.05</td>\n",
       "      <td>16833.20</td>\n",
       "      <td>17086.25</td>\n",
       "      <td>161679423</td>\n",
       "    </tr>\n",
       "    <tr>\n",
       "      <th>3980</th>\n",
       "      <td>28-Dec-21</td>\n",
       "      <td>17177.60</td>\n",
       "      <td>17250.25</td>\n",
       "      <td>17161.15</td>\n",
       "      <td>17233.25</td>\n",
       "      <td>161679423</td>\n",
       "    </tr>\n",
       "    <tr>\n",
       "      <th>3981</th>\n",
       "      <td>29-Dec-21</td>\n",
       "      <td>17220.10</td>\n",
       "      <td>17285.95</td>\n",
       "      <td>17176.65</td>\n",
       "      <td>17213.60</td>\n",
       "      <td>161679423</td>\n",
       "    </tr>\n",
       "  </tbody>\n",
       "</table>\n",
       "</div>"
      ],
      "text/plain": [
       "           Date      Open      High       Low     Close     Volume\n",
       "3977  23-Dec-21  17066.80  17118.65  17015.55  17072.60  161679423\n",
       "3978  24-Dec-21  17149.50  17155.60  16909.60  17003.75  161679423\n",
       "3979  27-Dec-21  16937.75  17112.05  16833.20  17086.25  161679423\n",
       "3980  28-Dec-21  17177.60  17250.25  17161.15  17233.25  161679423\n",
       "3981  29-Dec-21  17220.10  17285.95  17176.65  17213.60  161679423"
      ]
     },
     "execution_count": 123,
     "metadata": {},
     "output_type": "execute_result"
    }
   ],
   "source": [
    "df.tail()"
   ]
  },
  {
   "cell_type": "code",
   "execution_count": 125,
   "metadata": {},
   "outputs": [],
   "source": [
    "df1=df.reset_index()['Close']"
   ]
  },
  {
   "cell_type": "code",
   "execution_count": 16,
   "metadata": {},
   "outputs": [
    {
     "data": {
      "text/plain": [
       "0       116.15\n",
       "1       116.02\n",
       "2       116.61\n",
       "3       117.91\n",
       "4       118.99\n",
       "         ...  \n",
       "1252    175.64\n",
       "1253    176.28\n",
       "1254    180.33\n",
       "1255    179.29\n",
       "1256    179.38\n",
       "Name: close, Length: 1257, dtype: float64"
      ]
     },
     "execution_count": 16,
     "metadata": {},
     "output_type": "execute_result"
    }
   ],
   "source": [
    "df1"
   ]
  },
  {
   "cell_type": "code",
   "execution_count": 126,
   "metadata": {},
   "outputs": [
    {
     "data": {
      "text/plain": [
       "[<matplotlib.lines.Line2D at 0x7f9a044184a8>]"
      ]
     },
     "execution_count": 126,
     "metadata": {},
     "output_type": "execute_result"
    },
    {
     "data": {
      "image/png": "[encoded data removed]",
      "text/plain": [
       "<Figure size 432x288 with 1 Axes>"
      ]
     },
     "metadata": {
      "needs_background": "light"
     },
     "output_type": "display_data"
    }
   ],
   "source": [
    "import matplotlib.pyplot as plt\n",
    "plt.plot(df1)"
   ]
  },
  {
   "cell_type": "code",
   "execution_count": 291,
   "metadata": {},
   "outputs": [],
   "source": [
    "### LSTM are sensitive to the scale of the data. so we apply MinMax scaler "
   ]
  },
  {
   "cell_type": "code",
   "execution_count": 127,
   "metadata": {},
   "outputs": [],
   "source": [
    "import numpy as np"
   ]
  },
  {
   "cell_type": "code",
   "execution_count": 128,
   "metadata": {},
   "outputs": [
    {
     "data": {
      "text/plain": [
       "0        2115.00\n",
       "1        2103.70\n",
       "2        2032.20\n",
       "3        1998.30\n",
       "4        2015.50\n",
       "          ...   \n",
       "3977    17072.60\n",
       "3978    17003.75\n",
       "3979    17086.25\n",
       "3980    17233.25\n",
       "3981    17213.60\n",
       "Name: Close, Length: 3982, dtype: float64"
      ]
     },
     "execution_count": 128,
     "metadata": {},
     "output_type": "execute_result"
    }
   ],
   "source": [
    "df1"
   ]
  },
  {
   "cell_type": "code",
   "execution_count": 129,
   "metadata": {},
   "outputs": [],
   "source": [
    "from sklearn.preprocessing import MinMaxScaler\n",
    "scaler=MinMaxScaler(feature_range=(0,1))\n",
    "df1=scaler.fit_transform(np.array(df1).reshape(-1,1))"
   ]
  },
  {
   "cell_type": "code",
   "execution_count": 130,
   "metadata": {},
   "outputs": [
    {
     "name": "stdout",
     "output_type": "stream",
     "text": [
      "[[0.01282086]\n",
      " [0.01213909]\n",
      " [0.00782525]\n",
      " ...\n",
      " [0.91608822]\n",
      " [0.92495724]\n",
      " [0.92377169]]\n"
     ]
    }
   ],
   "source": [
    "print(df1)"
   ]
  },
  {
   "cell_type": "code",
   "execution_count": 131,
   "metadata": {},
   "outputs": [],
   "source": [
    "##splitting dataset into train and test split\n",
    "training_size=int(len(df1)*0.65)\n",
    "test_size=len(df1)-training_size\n",
    "train_data,test_data=df1[0:training_size,:],df1[training_size:len(df1),:1]"
   ]
  },
  {
   "cell_type": "code",
   "execution_count": 132,
   "metadata": {},
   "outputs": [
    {
     "data": {
      "text/plain": [
       "(2588, 1394)"
      ]
     },
     "execution_count": 132,
     "metadata": {},
     "output_type": "execute_result"
    }
   ],
   "source": [
    "training_size,test_size"
   ]
  },
  {
   "cell_type": "code",
   "execution_count": 133,
   "metadata": {},
   "outputs": [
    {
     "data": {
      "text/plain": [
       "array([[0.01282086],\n",
       "       [0.01213909],\n",
       "       [0.00782525],\n",
       "       ...,\n",
       "       [0.38214612],\n",
       "       [0.37603434],\n",
       "       [0.37576284]])"
      ]
     },
     "execution_count": 133,
     "metadata": {},
     "output_type": "execute_result"
    }
   ],
   "source": [
    "train_data"
   ]
  },
  {
   "cell_type": "code",
   "execution_count": 134,
   "metadata": {},
   "outputs": [],
   "source": [
    "import numpy\n",
    "# convert an array of values into a dataset matrix\n",
    "def create_dataset(dataset, time_step=1):\n",
    "\tdataX, dataY = [], []\n",
    "\tfor i in range(len(dataset)-time_step-1):\n",
    "\t\ta = dataset[i:(i+time_step), 0]   ###i=0, 0,1,2,3-----99   100 \n",
    "\t\tdataX.append(a)\n",
    "\t\tdataY.append(dataset[i + time_step, 0])\n",
    "\treturn numpy.array(dataX), numpy.array(dataY)"
   ]
  },
  {
   "cell_type": "code",
   "execution_count": 135,
   "metadata": {},
   "outputs": [],
   "source": [
    "# reshape into X=t,t+1,t+2,t+3 and Y=t+4\n",
    "time_step = 100\n",
    "X_train, y_train = create_dataset(train_data, time_step)\n",
    "X_test, ytest = create_dataset(test_data, time_step)"
   ]
  },
  {
   "cell_type": "code",
   "execution_count": 136,
   "metadata": {},
   "outputs": [
    {
     "name": "stdout",
     "output_type": "stream",
     "text": [
      "(2487, 100)\n",
      "(2487,)\n"
     ]
    },
    {
     "data": {
      "text/plain": [
       "(None, None)"
      ]
     },
     "execution_count": 136,
     "metadata": {},
     "output_type": "execute_result"
    }
   ],
   "source": [
    "print(X_train.shape), print(y_train.shape)"
   ]
  },
  {
   "cell_type": "code",
   "execution_count": 137,
   "metadata": {},
   "outputs": [
    {
     "name": "stdout",
     "output_type": "stream",
     "text": [
      "(1293, 100)\n",
      "(1293,)\n"
     ]
    },
    {
     "data": {
      "text/plain": [
       "(None, None)"
      ]
     },
     "execution_count": 137,
     "metadata": {},
     "output_type": "execute_result"
    }
   ],
   "source": [
    "print(X_test.shape), print(ytest.shape)"
   ]
  },
  {
   "cell_type": "code",
   "execution_count": 138,
   "metadata": {},
   "outputs": [],
   "source": [
    "# reshape input to be [samples, time steps, features] which is required for LSTM\n",
    "X_train =X_train.reshape(X_train.shape[0],X_train.shape[1] , 1)\n",
    "X_test = X_test.reshape(X_test.shape[0],X_test.shape[1] , 1)"
   ]
  },
  {
   "cell_type": "code",
   "execution_count": 139,
   "metadata": {},
   "outputs": [],
   "source": [
    "### Create the Stacked LSTM model\n",
    "from tensorflow.keras.models import Sequential\n",
    "from tensorflow.keras.layers import Dense\n",
    "from tensorflow.keras.layers import LSTM"
   ]
  },
  {
   "cell_type": "code",
   "execution_count": 140,
   "metadata": {},
   "outputs": [],
   "source": [
    "model=Sequential()\n",
    "model.add(LSTM(50,return_sequences=True,input_shape=(100,1)))\n",
    "model.add(LSTM(50,return_sequences=True))\n",
    "model.add(LSTM(50))\n",
    "model.add(Dense(1))\n",
    "model.compile(loss='mean_squared_error',optimizer='adam')\n"
   ]
  },
  {
   "cell_type": "code",
   "execution_count": 141,
   "metadata": {},
   "outputs": [
    {
     "name": "stdout",
     "output_type": "stream",
     "text": [
      "Model: \"sequential_1\"\n",
      "_________________________________________________________________\n",
      "Layer (type)                 Output Shape              Param #   \n",
      "=================================================================\n",
      "lstm_3 (LSTM)                (None, 100, 50)           10400     \n",
      "_________________________________________________________________\n",
      "lstm_4 (LSTM)                (None, 100, 50)           20200     \n",
      "_________________________________________________________________\n",
      "lstm_5 (LSTM)                (None, 50)                20200     \n",
      "_________________________________________________________________\n",
      "dense_1 (Dense)              (None, 1)                 51        \n",
      "=================================================================\n",
      "Total params: 50,851\n",
      "Trainable params: 50,851\n",
      "Non-trainable params: 0\n",
      "_________________________________________________________________\n"
     ]
    }
   ],
   "source": [
    "model.summary()"
   ]
  },
  {
   "cell_type": "code",
   "execution_count": 142,
   "metadata": {},
   "outputs": [
    {
     "name": "stdout",
     "output_type": "stream",
     "text": [
      "Model: \"sequential_1\"\n",
      "_________________________________________________________________\n",
      "Layer (type)                 Output Shape              Param #   \n",
      "=================================================================\n",
      "lstm_3 (LSTM)                (None, 100, 50)           10400     \n",
      "_________________________________________________________________\n",
      "lstm_4 (LSTM)                (None, 100, 50)           20200     \n",
      "_________________________________________________________________\n",
      "lstm_5 (LSTM)                (None, 50)                20200     \n",
      "_________________________________________________________________\n",
      "dense_1 (Dense)              (None, 1)                 51        \n",
      "=================================================================\n",
      "Total params: 50,851\n",
      "Trainable params: 50,851\n",
      "Non-trainable params: 0\n",
      "_________________________________________________________________\n"
     ]
    }
   ],
   "source": [
    "model.summary()"
   ]
  },
  {
   "cell_type": "code",
   "execution_count": null,
   "metadata": {},
   "outputs": [],
   "source": [
    "#Bala: this part take time to complile"
   ]
  },
  {
   "cell_type": "code",
   "execution_count": null,
   "metadata": {},
   "outputs": [
    {
     "name": "stdout",
     "output_type": "stream",
     "text": [
      "Train on 2487 samples, validate on 1293 samples\n",
      "Epoch 1/100\n",
      "2487/2487 [==============================] - 39s 16ms/sample - loss: 0.0049 - val_loss: 0.0018\n",
      "Epoch 2/100\n",
      "2487/2487 [==============================] - 34s 14ms/sample - loss: 2.0226e-04 - val_loss: 5.5394e-04\n",
      "Epoch 3/100\n",
      "2487/2487 [==============================] - 36s 14ms/sample - loss: 1.6277e-04 - val_loss: 5.7069e-04\n",
      "Epoch 4/100\n",
      "2487/2487 [==============================] - 41s 16ms/sample - loss: 1.5150e-04 - val_loss: 5.3604e-04\n",
      "Epoch 5/100\n",
      "2487/2487 [==============================] - 44s 18ms/sample - loss: 1.5279e-04 - val_loss: 6.6891e-04\n",
      "Epoch 6/100\n",
      "2487/2487 [==============================] - 44s 18ms/sample - loss: 1.4448e-04 - val_loss: 4.7045e-04\n",
      "Epoch 7/100\n"
     ]
    }
   ],
   "source": [
    "model.fit(X_train,y_train,validation_data=(X_test,ytest),epochs=100,batch_size=64,verbose=1)"
   ]
  },
  {
   "cell_type": "code",
   "execution_count": 36,
   "metadata": {},
   "outputs": [],
   "source": [
    "import tensorflow as tf"
   ]
  },
  {
   "cell_type": "code",
   "execution_count": 37,
   "metadata": {},
   "outputs": [
    {
     "data": {
      "text/plain": [
       "'2.0.0'"
      ]
     },
     "execution_count": 37,
     "metadata": {},
     "output_type": "execute_result"
    }
   ],
   "source": [
    "tf.__version__"
   ]
  },
  {
   "cell_type": "code",
   "execution_count": 38,
   "metadata": {},
   "outputs": [],
   "source": [
    "### Lets Do the prediction and check performance metrics\n",
    "train_predict=model.predict(X_train)\n",
    "test_predict=model.predict(X_test)"
   ]
  },
  {
   "cell_type": "code",
   "execution_count": 39,
   "metadata": {},
   "outputs": [],
   "source": [
    "##Transformback to original form\n",
    "train_predict=scaler.inverse_transform(train_predict)\n",
    "test_predict=scaler.inverse_transform(test_predict)"
   ]
  },
  {
   "cell_type": "code",
   "execution_count": 40,
   "metadata": {},
   "outputs": [
    {
     "data": {
      "text/plain": [
       "202.21362022255346"
      ]
     },
     "execution_count": 40,
     "metadata": {},
     "output_type": "execute_result"
    }
   ],
   "source": [
    "### Calculate RMSE performance metrics\n",
    "import math\n",
    "from sklearn.metrics import mean_squared_error\n",
    "math.sqrt(mean_squared_error(y_train,train_predict))"
   ]
  },
  {
   "cell_type": "code",
   "execution_count": 41,
   "metadata": {},
   "outputs": [
    {
     "data": {
      "text/plain": [
       "148.9687640108145"
      ]
     },
     "execution_count": 41,
     "metadata": {},
     "output_type": "execute_result"
    }
   ],
   "source": [
    "### Test Data RMSE\n",
    "math.sqrt(mean_squared_error(ytest,test_predict))"
   ]
  },
  {
   "cell_type": "code",
   "execution_count": 42,
   "metadata": {},
   "outputs": [
    {
     "data": {
      "image/png": "[encoded data removed]",
      "text/plain": [
       "<Figure size 432x288 with 1 Axes>"
      ]
     },
     "metadata": {
      "needs_background": "light"
     },
     "output_type": "display_data"
    }
   ],
   "source": [
    "### Plotting \n",
    "# shift train predictions for plotting\n",
    "look_back=100\n",
    "trainPredictPlot = numpy.empty_like(df1)\n",
    "trainPredictPlot[:, :] = np.nan\n",
    "trainPredictPlot[look_back:len(train_predict)+look_back, :] = train_predict\n",
    "# shift test predictions for plotting\n",
    "testPredictPlot = numpy.empty_like(df1)\n",
    "testPredictPlot[:, :] = numpy.nan\n",
    "testPredictPlot[len(train_predict)+(look_back*2)+1:len(df1)-1, :] = test_predict\n",
    "# plot baseline and predictions\n",
    "plt.plot(scaler.inverse_transform(df1))\n",
    "plt.plot(trainPredictPlot)\n",
    "plt.plot(testPredictPlot)\n",
    "plt.show()"
   ]
  },
  {
   "cell_type": "code",
   "execution_count": 43,
   "metadata": {},
   "outputs": [
    {
     "data": {
      "text/plain": [
       "440"
      ]
     },
     "execution_count": 43,
     "metadata": {},
     "output_type": "execute_result"
    }
   ],
   "source": [
    "len(test_data)"
   ]
  },
  {
   "cell_type": "code",
   "execution_count": 101,
   "metadata": {},
   "outputs": [
    {
     "data": {
      "text/plain": [
       "(1, 100)"
      ]
     },
     "execution_count": 101,
     "metadata": {},
     "output_type": "execute_result"
    }
   ],
   "source": [
    "#bala: 100 elements required\n",
    "x_input=test_data[340:].reshape(1,-1)\n",
    "x_input.shape\n"
   ]
  },
  {
   "cell_type": "code",
   "execution_count": 102,
   "metadata": {},
   "outputs": [
    {
     "data": {
      "text/plain": [
       "(1, 100)"
      ]
     },
     "execution_count": 102,
     "metadata": {},
     "output_type": "execute_result"
    }
   ],
   "source": [
    "x_input.shape"
   ]
  },
  {
   "cell_type": "code",
   "execution_count": null,
   "metadata": {},
   "outputs": [],
   "source": []
  },
  {
   "cell_type": "code",
   "execution_count": 103,
   "metadata": {},
   "outputs": [],
   "source": [
    "temp_input=list(x_input)\n",
    "temp_input=temp_input[0].tolist()"
   ]
  },
  {
   "cell_type": "code",
   "execution_count": 104,
   "metadata": {},
   "outputs": [
    {
     "data": {
      "text/plain": [
       "100"
      ]
     },
     "execution_count": 104,
     "metadata": {},
     "output_type": "execute_result"
    }
   ],
   "source": [
    "# temp_input\n",
    "#bala: added a random element since 100 elements required\n",
    "# temp_input.append(0.09708202880400746)\n",
    "len(temp_input)\n",
    "# temp_input"
   ]
  },
  {
   "cell_type": "code",
   "execution_count": 105,
   "metadata": {},
   "outputs": [
    {
     "name": "stdout",
     "output_type": "stream",
     "text": [
      "[0.17432146]\n",
      "101\n",
      "1 day input [0.09708203 0.09773325 0.10532248 0.10584847 0.11090795 0.10857858\n",
      " 0.0989856  0.09983719 0.10356919 0.10737633 0.10715091 0.10399499\n",
      " 0.10194114 0.10459612 0.11591735 0.11268629 0.11438948 0.11724483\n",
      " 0.11887289 0.12485911 0.12090169 0.11829681 0.10552286 0.10697558\n",
      " 0.10339386 0.10567314 0.10507201 0.09823419 0.09041954 0.09164684\n",
      " 0.0977082  0.10016281 0.10038823 0.09650595 0.0878397  0.09014402\n",
      " 0.08681277 0.08969317 0.08090169 0.08583594 0.08806512 0.09129618\n",
      " 0.09031935 0.09009393 0.08683782 0.085335   0.09247339 0.09517846\n",
      " 0.09946149 0.10499687 0.10624922 0.10680025 0.10482154 0.10469631\n",
      " 0.1063995  0.10522229 0.11453976 0.10760175 0.10549781 0.10815279\n",
      " 0.11183469 0.1105072  0.1113087  0.10920476 0.1101315  0.10289292\n",
      " 0.10276769 0.10807765 0.10810269 0.11060739 0.11684408 0.12781465\n",
      " 0.13452724 0.13570445 0.13668128 0.13800877 0.12515967 0.13375078\n",
      " 0.14642455 0.14509706 0.14256731 0.1377583  0.14647464 0.16115216\n",
      " 0.17092048 0.16961803 0.181866   0.17257358 0.16904195 0.18149029\n",
      " 0.16385723 0.16105197 0.15757044 0.16568566 0.17232311 0.17392611\n",
      " 0.18407013 0.18146525 0.18169067 0.17432146]\n",
      "1 day output [[0.17600258]]\n",
      "2 day input [0.09773325 0.10532248 0.10584847 0.11090795 0.10857858 0.0989856\n",
      " 0.09983719 0.10356919 0.10737633 0.10715091 0.10399499 0.10194114\n",
      " 0.10459612 0.11591735 0.11268629 0.11438948 0.11724483 0.11887289\n",
      " 0.12485911 0.12090169 0.11829681 0.10552286 0.10697558 0.10339386\n",
      " 0.10567314 0.10507201 0.09823419 0.09041954 0.09164684 0.0977082\n",
      " 0.10016281 0.10038823 0.09650595 0.0878397  0.09014402 0.08681277\n",
      " 0.08969317 0.08090169 0.08583594 0.08806512 0.09129618 0.09031935\n",
      " 0.09009393 0.08683782 0.085335   0.09247339 0.09517846 0.09946149\n",
      " 0.10499687 0.10624922 0.10680025 0.10482154 0.10469631 0.1063995\n",
      " 0.10522229 0.11453976 0.10760175 0.10549781 0.10815279 0.11183469\n",
      " 0.1105072  0.1113087  0.10920476 0.1101315  0.10289292 0.10276769\n",
      " 0.10807765 0.10810269 0.11060739 0.11684408 0.12781465 0.13452724\n",
      " 0.13570445 0.13668128 0.13800877 0.12515967 0.13375078 0.14642455\n",
      " 0.14509706 0.14256731 0.1377583  0.14647464 0.16115216 0.17092048\n",
      " 0.16961803 0.181866   0.17257358 0.16904195 0.18149029 0.16385723\n",
      " 0.16105197 0.15757044 0.16568566 0.17232311 0.17392611 0.18407013\n",
      " 0.18146525 0.18169067 0.17432146 0.17600258]\n",
      "2 day output [[0.17718977]]\n",
      "3 day input [0.10532248 0.10584847 0.11090795 0.10857858 0.0989856  0.09983719\n",
      " 0.10356919 0.10737633 0.10715091 0.10399499 0.10194114 0.10459612\n",
      " 0.11591735 0.11268629 0.11438948 0.11724483 0.11887289 0.12485911\n",
      " 0.12090169 0.11829681 0.10552286 0.10697558 0.10339386 0.10567314\n",
      " 0.10507201 0.09823419 0.09041954 0.09164684 0.0977082  0.10016281\n",
      " 0.10038823 0.09650595 0.0878397  0.09014402 0.08681277 0.08969317\n",
      " 0.08090169 0.08583594 0.08806512 0.09129618 0.09031935 0.09009393\n",
      " 0.08683782 0.085335   0.09247339 0.09517846 0.09946149 0.10499687\n",
      " 0.10624922 0.10680025 0.10482154 0.10469631 0.1063995  0.10522229\n",
      " 0.11453976 0.10760175 0.10549781 0.10815279 0.11183469 0.1105072\n",
      " 0.1113087  0.10920476 0.1101315  0.10289292 0.10276769 0.10807765\n",
      " 0.10810269 0.11060739 0.11684408 0.12781465 0.13452724 0.13570445\n",
      " 0.13668128 0.13800877 0.12515967 0.13375078 0.14642455 0.14509706\n",
      " 0.14256731 0.1377583  0.14647464 0.16115216 0.17092048 0.16961803\n",
      " 0.181866   0.17257358 0.16904195 0.18149029 0.16385723 0.16105197\n",
      " 0.15757044 0.16568566 0.17232311 0.17392611 0.18407013 0.18146525\n",
      " 0.18169067 0.17432146 0.17600258 0.17718977]\n",
      "3 day output [[0.17796104]]\n",
      "4 day input [0.10584847 0.11090795 0.10857858 0.0989856  0.09983719 0.10356919\n",
      " 0.10737633 0.10715091 0.10399499 0.10194114 0.10459612 0.11591735\n",
      " 0.11268629 0.11438948 0.11724483 0.11887289 0.12485911 0.12090169\n",
      " 0.11829681 0.10552286 0.10697558 0.10339386 0.10567314 0.10507201\n",
      " 0.09823419 0.09041954 0.09164684 0.0977082  0.10016281 0.10038823\n",
      " 0.09650595 0.0878397  0.09014402 0.08681277 0.08969317 0.08090169\n",
      " 0.08583594 0.08806512 0.09129618 0.09031935 0.09009393 0.08683782\n",
      " 0.085335   0.09247339 0.09517846 0.09946149 0.10499687 0.10624922\n",
      " 0.10680025 0.10482154 0.10469631 0.1063995  0.10522229 0.11453976\n",
      " 0.10760175 0.10549781 0.10815279 0.11183469 0.1105072  0.1113087\n",
      " 0.10920476 0.1101315  0.10289292 0.10276769 0.10807765 0.10810269\n",
      " 0.11060739 0.11684408 0.12781465 0.13452724 0.13570445 0.13668128\n",
      " 0.13800877 0.12515967 0.13375078 0.14642455 0.14509706 0.14256731\n",
      " 0.1377583  0.14647464 0.16115216 0.17092048 0.16961803 0.181866\n",
      " 0.17257358 0.16904195 0.18149029 0.16385723 0.16105197 0.15757044\n",
      " 0.16568566 0.17232311 0.17392611 0.18407013 0.18146525 0.18169067\n",
      " 0.17432146 0.17600258 0.17718977 0.17796104]\n",
      "4 day output [[0.17844544]]\n",
      "5 day input [0.11090795 0.10857858 0.0989856  0.09983719 0.10356919 0.10737633\n",
      " 0.10715091 0.10399499 0.10194114 0.10459612 0.11591735 0.11268629\n",
      " 0.11438948 0.11724483 0.11887289 0.12485911 0.12090169 0.11829681\n",
      " 0.10552286 0.10697558 0.10339386 0.10567314 0.10507201 0.09823419\n",
      " 0.09041954 0.09164684 0.0977082  0.10016281 0.10038823 0.09650595\n",
      " 0.0878397  0.09014402 0.08681277 0.08969317 0.08090169 0.08583594\n",
      " 0.08806512 0.09129618 0.09031935 0.09009393 0.08683782 0.085335\n",
      " 0.09247339 0.09517846 0.09946149 0.10499687 0.10624922 0.10680025\n",
      " 0.10482154 0.10469631 0.1063995  0.10522229 0.11453976 0.10760175\n",
      " 0.10549781 0.10815279 0.11183469 0.1105072  0.1113087  0.10920476\n",
      " 0.1101315  0.10289292 0.10276769 0.10807765 0.10810269 0.11060739\n",
      " 0.11684408 0.12781465 0.13452724 0.13570445 0.13668128 0.13800877\n",
      " 0.12515967 0.13375078 0.14642455 0.14509706 0.14256731 0.1377583\n",
      " 0.14647464 0.16115216 0.17092048 0.16961803 0.181866   0.17257358\n",
      " 0.16904195 0.18149029 0.16385723 0.16105197 0.15757044 0.16568566\n",
      " 0.17232311 0.17392611 0.18407013 0.18146525 0.18169067 0.17432146\n",
      " 0.17600258 0.17718977 0.17796104 0.17844544]\n",
      "5 day output [[0.17875506]]\n",
      "6 day input [0.10857858 0.0989856  0.09983719 0.10356919 0.10737633 0.10715091\n",
      " 0.10399499 0.10194114 0.10459612 0.11591735 0.11268629 0.11438948\n",
      " 0.11724483 0.11887289 0.12485911 0.12090169 0.11829681 0.10552286\n",
      " 0.10697558 0.10339386 0.10567314 0.10507201 0.09823419 0.09041954\n",
      " 0.09164684 0.0977082  0.10016281 0.10038823 0.09650595 0.0878397\n",
      " 0.09014402 0.08681277 0.08969317 0.08090169 0.08583594 0.08806512\n",
      " 0.09129618 0.09031935 0.09009393 0.08683782 0.085335   0.09247339\n",
      " 0.09517846 0.09946149 0.10499687 0.10624922 0.10680025 0.10482154\n",
      " 0.10469631 0.1063995  0.10522229 0.11453976 0.10760175 0.10549781\n",
      " 0.10815279 0.11183469 0.1105072  0.1113087  0.10920476 0.1101315\n",
      " 0.10289292 0.10276769 0.10807765 0.10810269 0.11060739 0.11684408\n",
      " 0.12781465 0.13452724 0.13570445 0.13668128 0.13800877 0.12515967\n",
      " 0.13375078 0.14642455 0.14509706 0.14256731 0.1377583  0.14647464\n",
      " 0.16115216 0.17092048 0.16961803 0.181866   0.17257358 0.16904195\n",
      " 0.18149029 0.16385723 0.16105197 0.15757044 0.16568566 0.17232311\n",
      " 0.17392611 0.18407013 0.18146525 0.18169067 0.17432146 0.17600258\n",
      " 0.17718977 0.17796104 0.17844544 0.17875506]\n",
      "6 day output [[0.1789673]]\n",
      "7 day input [0.0989856  0.09983719 0.10356919 0.10737633 0.10715091 0.10399499\n",
      " 0.10194114 0.10459612 0.11591735 0.11268629 0.11438948 0.11724483\n",
      " 0.11887289 0.12485911 0.12090169 0.11829681 0.10552286 0.10697558\n",
      " 0.10339386 0.10567314 0.10507201 0.09823419 0.09041954 0.09164684\n",
      " 0.0977082  0.10016281 0.10038823 0.09650595 0.0878397  0.09014402\n",
      " 0.08681277 0.08969317 0.08090169 0.08583594 0.08806512 0.09129618\n",
      " 0.09031935 0.09009393 0.08683782 0.085335   0.09247339 0.09517846\n",
      " 0.09946149 0.10499687 0.10624922 0.10680025 0.10482154 0.10469631\n",
      " 0.1063995  0.10522229 0.11453976 0.10760175 0.10549781 0.10815279\n",
      " 0.11183469 0.1105072  0.1113087  0.10920476 0.1101315  0.10289292\n",
      " 0.10276769 0.10807765 0.10810269 0.11060739 0.11684408 0.12781465\n",
      " 0.13452724 0.13570445 0.13668128 0.13800877 0.12515967 0.13375078\n",
      " 0.14642455 0.14509706 0.14256731 0.1377583  0.14647464 0.16115216\n",
      " 0.17092048 0.16961803 0.181866   0.17257358 0.16904195 0.18149029\n",
      " 0.16385723 0.16105197 0.15757044 0.16568566 0.17232311 0.17392611\n",
      " 0.18407013 0.18146525 0.18169067 0.17432146 0.17600258 0.17718977\n",
      " 0.17796104 0.17844544 0.17875506 0.1789673 ]\n",
      "7 day output [[0.17912866]]\n",
      "8 day input [0.09983719 0.10356919 0.10737633 0.10715091 0.10399499 0.10194114\n",
      " 0.10459612 0.11591735 0.11268629 0.11438948 0.11724483 0.11887289\n",
      " 0.12485911 0.12090169 0.11829681 0.10552286 0.10697558 0.10339386\n",
      " 0.10567314 0.10507201 0.09823419 0.09041954 0.09164684 0.0977082\n",
      " 0.10016281 0.10038823 0.09650595 0.0878397  0.09014402 0.08681277\n",
      " 0.08969317 0.08090169 0.08583594 0.08806512 0.09129618 0.09031935\n",
      " 0.09009393 0.08683782 0.085335   0.09247339 0.09517846 0.09946149\n",
      " 0.10499687 0.10624922 0.10680025 0.10482154 0.10469631 0.1063995\n",
      " 0.10522229 0.11453976 0.10760175 0.10549781 0.10815279 0.11183469\n",
      " 0.1105072  0.1113087  0.10920476 0.1101315  0.10289292 0.10276769\n",
      " 0.10807765 0.10810269 0.11060739 0.11684408 0.12781465 0.13452724\n",
      " 0.13570445 0.13668128 0.13800877 0.12515967 0.13375078 0.14642455\n",
      " 0.14509706 0.14256731 0.1377583  0.14647464 0.16115216 0.17092048\n",
      " 0.16961803 0.181866   0.17257358 0.16904195 0.18149029 0.16385723\n",
      " 0.16105197 0.15757044 0.16568566 0.17232311 0.17392611 0.18407013\n",
      " 0.18146525 0.18169067 0.17432146 0.17600258 0.17718977 0.17796104\n",
      " 0.17844544 0.17875506 0.1789673  0.17912866]\n"
     ]
    },
    {
     "name": "stdout",
     "output_type": "stream",
     "text": [
      "8 day output [[0.17926404]]\n",
      "9 day input [0.10356919 0.10737633 0.10715091 0.10399499 0.10194114 0.10459612\n",
      " 0.11591735 0.11268629 0.11438948 0.11724483 0.11887289 0.12485911\n",
      " 0.12090169 0.11829681 0.10552286 0.10697558 0.10339386 0.10567314\n",
      " 0.10507201 0.09823419 0.09041954 0.09164684 0.0977082  0.10016281\n",
      " 0.10038823 0.09650595 0.0878397  0.09014402 0.08681277 0.08969317\n",
      " 0.08090169 0.08583594 0.08806512 0.09129618 0.09031935 0.09009393\n",
      " 0.08683782 0.085335   0.09247339 0.09517846 0.09946149 0.10499687\n",
      " 0.10624922 0.10680025 0.10482154 0.10469631 0.1063995  0.10522229\n",
      " 0.11453976 0.10760175 0.10549781 0.10815279 0.11183469 0.1105072\n",
      " 0.1113087  0.10920476 0.1101315  0.10289292 0.10276769 0.10807765\n",
      " 0.10810269 0.11060739 0.11684408 0.12781465 0.13452724 0.13570445\n",
      " 0.13668128 0.13800877 0.12515967 0.13375078 0.14642455 0.14509706\n",
      " 0.14256731 0.1377583  0.14647464 0.16115216 0.17092048 0.16961803\n",
      " 0.181866   0.17257358 0.16904195 0.18149029 0.16385723 0.16105197\n",
      " 0.15757044 0.16568566 0.17232311 0.17392611 0.18407013 0.18146525\n",
      " 0.18169067 0.17432146 0.17600258 0.17718977 0.17796104 0.17844544\n",
      " 0.17875506 0.1789673  0.17912866 0.17926404]\n",
      "9 day output [[0.17938548]]\n",
      "10 day input [0.10737633 0.10715091 0.10399499 0.10194114 0.10459612 0.11591735\n",
      " 0.11268629 0.11438948 0.11724483 0.11887289 0.12485911 0.12090169\n",
      " 0.11829681 0.10552286 0.10697558 0.10339386 0.10567314 0.10507201\n",
      " 0.09823419 0.09041954 0.09164684 0.0977082  0.10016281 0.10038823\n",
      " 0.09650595 0.0878397  0.09014402 0.08681277 0.08969317 0.08090169\n",
      " 0.08583594 0.08806512 0.09129618 0.09031935 0.09009393 0.08683782\n",
      " 0.085335   0.09247339 0.09517846 0.09946149 0.10499687 0.10624922\n",
      " 0.10680025 0.10482154 0.10469631 0.1063995  0.10522229 0.11453976\n",
      " 0.10760175 0.10549781 0.10815279 0.11183469 0.1105072  0.1113087\n",
      " 0.10920476 0.1101315  0.10289292 0.10276769 0.10807765 0.10810269\n",
      " 0.11060739 0.11684408 0.12781465 0.13452724 0.13570445 0.13668128\n",
      " 0.13800877 0.12515967 0.13375078 0.14642455 0.14509706 0.14256731\n",
      " 0.1377583  0.14647464 0.16115216 0.17092048 0.16961803 0.181866\n",
      " 0.17257358 0.16904195 0.18149029 0.16385723 0.16105197 0.15757044\n",
      " 0.16568566 0.17232311 0.17392611 0.18407013 0.18146525 0.18169067\n",
      " 0.17432146 0.17600258 0.17718977 0.17796104 0.17844544 0.17875506\n",
      " 0.1789673  0.17912866 0.17926404 0.17938548]\n",
      "10 day output [[0.17949833]]\n",
      "11 day input [0.10715091 0.10399499 0.10194114 0.10459612 0.11591735 0.11268629\n",
      " 0.11438948 0.11724483 0.11887289 0.12485911 0.12090169 0.11829681\n",
      " 0.10552286 0.10697558 0.10339386 0.10567314 0.10507201 0.09823419\n",
      " 0.09041954 0.09164684 0.0977082  0.10016281 0.10038823 0.09650595\n",
      " 0.0878397  0.09014402 0.08681277 0.08969317 0.08090169 0.08583594\n",
      " 0.08806512 0.09129618 0.09031935 0.09009393 0.08683782 0.085335\n",
      " 0.09247339 0.09517846 0.09946149 0.10499687 0.10624922 0.10680025\n",
      " 0.10482154 0.10469631 0.1063995  0.10522229 0.11453976 0.10760175\n",
      " 0.10549781 0.10815279 0.11183469 0.1105072  0.1113087  0.10920476\n",
      " 0.1101315  0.10289292 0.10276769 0.10807765 0.10810269 0.11060739\n",
      " 0.11684408 0.12781465 0.13452724 0.13570445 0.13668128 0.13800877\n",
      " 0.12515967 0.13375078 0.14642455 0.14509706 0.14256731 0.1377583\n",
      " 0.14647464 0.16115216 0.17092048 0.16961803 0.181866   0.17257358\n",
      " 0.16904195 0.18149029 0.16385723 0.16105197 0.15757044 0.16568566\n",
      " 0.17232311 0.17392611 0.18407013 0.18146525 0.18169067 0.17432146\n",
      " 0.17600258 0.17718977 0.17796104 0.17844544 0.17875506 0.1789673\n",
      " 0.17912866 0.17926404 0.17938548 0.17949833]\n",
      "11 day output [[0.17960487]]\n",
      "12 day input [0.10399499 0.10194114 0.10459612 0.11591735 0.11268629 0.11438948\n",
      " 0.11724483 0.11887289 0.12485911 0.12090169 0.11829681 0.10552286\n",
      " 0.10697558 0.10339386 0.10567314 0.10507201 0.09823419 0.09041954\n",
      " 0.09164684 0.0977082  0.10016281 0.10038823 0.09650595 0.0878397\n",
      " 0.09014402 0.08681277 0.08969317 0.08090169 0.08583594 0.08806512\n",
      " 0.09129618 0.09031935 0.09009393 0.08683782 0.085335   0.09247339\n",
      " 0.09517846 0.09946149 0.10499687 0.10624922 0.10680025 0.10482154\n",
      " 0.10469631 0.1063995  0.10522229 0.11453976 0.10760175 0.10549781\n",
      " 0.10815279 0.11183469 0.1105072  0.1113087  0.10920476 0.1101315\n",
      " 0.10289292 0.10276769 0.10807765 0.10810269 0.11060739 0.11684408\n",
      " 0.12781465 0.13452724 0.13570445 0.13668128 0.13800877 0.12515967\n",
      " 0.13375078 0.14642455 0.14509706 0.14256731 0.1377583  0.14647464\n",
      " 0.16115216 0.17092048 0.16961803 0.181866   0.17257358 0.16904195\n",
      " 0.18149029 0.16385723 0.16105197 0.15757044 0.16568566 0.17232311\n",
      " 0.17392611 0.18407013 0.18146525 0.18169067 0.17432146 0.17600258\n",
      " 0.17718977 0.17796104 0.17844544 0.17875506 0.1789673  0.17912866\n",
      " 0.17926404 0.17938548 0.17949833 0.17960487]\n",
      "12 day output [[0.1797063]]\n",
      "13 day input [0.10194114 0.10459612 0.11591735 0.11268629 0.11438948 0.11724483\n",
      " 0.11887289 0.12485911 0.12090169 0.11829681 0.10552286 0.10697558\n",
      " 0.10339386 0.10567314 0.10507201 0.09823419 0.09041954 0.09164684\n",
      " 0.0977082  0.10016281 0.10038823 0.09650595 0.0878397  0.09014402\n",
      " 0.08681277 0.08969317 0.08090169 0.08583594 0.08806512 0.09129618\n",
      " 0.09031935 0.09009393 0.08683782 0.085335   0.09247339 0.09517846\n",
      " 0.09946149 0.10499687 0.10624922 0.10680025 0.10482154 0.10469631\n",
      " 0.1063995  0.10522229 0.11453976 0.10760175 0.10549781 0.10815279\n",
      " 0.11183469 0.1105072  0.1113087  0.10920476 0.1101315  0.10289292\n",
      " 0.10276769 0.10807765 0.10810269 0.11060739 0.11684408 0.12781465\n",
      " 0.13452724 0.13570445 0.13668128 0.13800877 0.12515967 0.13375078\n",
      " 0.14642455 0.14509706 0.14256731 0.1377583  0.14647464 0.16115216\n",
      " 0.17092048 0.16961803 0.181866   0.17257358 0.16904195 0.18149029\n",
      " 0.16385723 0.16105197 0.15757044 0.16568566 0.17232311 0.17392611\n",
      " 0.18407013 0.18146525 0.18169067 0.17432146 0.17600258 0.17718977\n",
      " 0.17796104 0.17844544 0.17875506 0.1789673  0.17912866 0.17926404\n",
      " 0.17938548 0.17949833 0.17960487 0.17970631]\n",
      "13 day output [[0.17980346]]\n",
      "14 day input [0.10459612 0.11591735 0.11268629 0.11438948 0.11724483 0.11887289\n",
      " 0.12485911 0.12090169 0.11829681 0.10552286 0.10697558 0.10339386\n",
      " 0.10567314 0.10507201 0.09823419 0.09041954 0.09164684 0.0977082\n",
      " 0.10016281 0.10038823 0.09650595 0.0878397  0.09014402 0.08681277\n",
      " 0.08969317 0.08090169 0.08583594 0.08806512 0.09129618 0.09031935\n",
      " 0.09009393 0.08683782 0.085335   0.09247339 0.09517846 0.09946149\n",
      " 0.10499687 0.10624922 0.10680025 0.10482154 0.10469631 0.1063995\n",
      " 0.10522229 0.11453976 0.10760175 0.10549781 0.10815279 0.11183469\n",
      " 0.1105072  0.1113087  0.10920476 0.1101315  0.10289292 0.10276769\n",
      " 0.10807765 0.10810269 0.11060739 0.11684408 0.12781465 0.13452724\n",
      " 0.13570445 0.13668128 0.13800877 0.12515967 0.13375078 0.14642455\n",
      " 0.14509706 0.14256731 0.1377583  0.14647464 0.16115216 0.17092048\n",
      " 0.16961803 0.181866   0.17257358 0.16904195 0.18149029 0.16385723\n",
      " 0.16105197 0.15757044 0.16568566 0.17232311 0.17392611 0.18407013\n",
      " 0.18146525 0.18169067 0.17432146 0.17600258 0.17718977 0.17796104\n",
      " 0.17844544 0.17875506 0.1789673  0.17912866 0.17926404 0.17938548\n",
      " 0.17949833 0.17960487 0.17970631 0.17980346]\n",
      "14 day output [[0.17989726]]\n",
      "15 day input [0.11591735 0.11268629 0.11438948 0.11724483 0.11887289 0.12485911\n",
      " 0.12090169 0.11829681 0.10552286 0.10697558 0.10339386 0.10567314\n",
      " 0.10507201 0.09823419 0.09041954 0.09164684 0.0977082  0.10016281\n",
      " 0.10038823 0.09650595 0.0878397  0.09014402 0.08681277 0.08969317\n",
      " 0.08090169 0.08583594 0.08806512 0.09129618 0.09031935 0.09009393\n",
      " 0.08683782 0.085335   0.09247339 0.09517846 0.09946149 0.10499687\n",
      " 0.10624922 0.10680025 0.10482154 0.10469631 0.1063995  0.10522229\n",
      " 0.11453976 0.10760175 0.10549781 0.10815279 0.11183469 0.1105072\n",
      " 0.1113087  0.10920476 0.1101315  0.10289292 0.10276769 0.10807765\n",
      " 0.10810269 0.11060739 0.11684408 0.12781465 0.13452724 0.13570445\n",
      " 0.13668128 0.13800877 0.12515967 0.13375078 0.14642455 0.14509706\n",
      " 0.14256731 0.1377583  0.14647464 0.16115216 0.17092048 0.16961803\n",
      " 0.181866   0.17257358 0.16904195 0.18149029 0.16385723 0.16105197\n",
      " 0.15757044 0.16568566 0.17232311 0.17392611 0.18407013 0.18146525\n",
      " 0.18169067 0.17432146 0.17600258 0.17718977 0.17796104 0.17844544\n",
      " 0.17875506 0.1789673  0.17912866 0.17926404 0.17938548 0.17949833\n",
      " 0.17960487 0.17970631 0.17980346 0.17989726]\n",
      "15 day output [[0.17998861]]\n",
      "16 day input [0.11268629 0.11438948 0.11724483 0.11887289 0.12485911 0.12090169\n",
      " 0.11829681 0.10552286 0.10697558 0.10339386 0.10567314 0.10507201\n",
      " 0.09823419 0.09041954 0.09164684 0.0977082  0.10016281 0.10038823\n",
      " 0.09650595 0.0878397  0.09014402 0.08681277 0.08969317 0.08090169\n",
      " 0.08583594 0.08806512 0.09129618 0.09031935 0.09009393 0.08683782\n",
      " 0.085335   0.09247339 0.09517846 0.09946149 0.10499687 0.10624922\n",
      " 0.10680025 0.10482154 0.10469631 0.1063995  0.10522229 0.11453976\n",
      " 0.10760175 0.10549781 0.10815279 0.11183469 0.1105072  0.1113087\n",
      " 0.10920476 0.1101315  0.10289292 0.10276769 0.10807765 0.10810269\n",
      " 0.11060739 0.11684408 0.12781465 0.13452724 0.13570445 0.13668128\n",
      " 0.13800877 0.12515967 0.13375078 0.14642455 0.14509706 0.14256731\n",
      " 0.1377583  0.14647464 0.16115216 0.17092048 0.16961803 0.181866\n",
      " 0.17257358 0.16904195 0.18149029 0.16385723 0.16105197 0.15757044\n",
      " 0.16568566 0.17232311 0.17392611 0.18407013 0.18146525 0.18169067\n",
      " 0.17432146 0.17600258 0.17718977 0.17796104 0.17844544 0.17875506\n",
      " 0.1789673  0.17912866 0.17926404 0.17938548 0.17949833 0.17960487\n",
      " 0.17970631 0.17980346 0.17989726 0.17998861]\n",
      "16 day output [[0.18007831]]\n",
      "17 day input [0.11438948 0.11724483 0.11887289 0.12485911 0.12090169 0.11829681\n",
      " 0.10552286 0.10697558 0.10339386 0.10567314 0.10507201 0.09823419\n",
      " 0.09041954 0.09164684 0.0977082  0.10016281 0.10038823 0.09650595\n",
      " 0.0878397  0.09014402 0.08681277 0.08969317 0.08090169 0.08583594\n",
      " 0.08806512 0.09129618 0.09031935 0.09009393 0.08683782 0.085335\n",
      " 0.09247339 0.09517846 0.09946149 0.10499687 0.10624922 0.10680025\n",
      " 0.10482154 0.10469631 0.1063995  0.10522229 0.11453976 0.10760175\n",
      " 0.10549781 0.10815279 0.11183469 0.1105072  0.1113087  0.10920476\n",
      " 0.1101315  0.10289292 0.10276769 0.10807765 0.10810269 0.11060739\n",
      " 0.11684408 0.12781465 0.13452724 0.13570445 0.13668128 0.13800877\n",
      " 0.12515967 0.13375078 0.14642455 0.14509706 0.14256731 0.1377583\n",
      " 0.14647464 0.16115216 0.17092048 0.16961803 0.181866   0.17257358\n",
      " 0.16904195 0.18149029 0.16385723 0.16105197 0.15757044 0.16568566\n",
      " 0.17232311 0.17392611 0.18407013 0.18146525 0.18169067 0.17432146\n",
      " 0.17600258 0.17718977 0.17796104 0.17844544 0.17875506 0.1789673\n",
      " 0.17912866 0.17926404 0.17938548 0.17949833 0.17960487 0.17970631\n",
      " 0.17980346 0.17989726 0.17998861 0.18007831]\n",
      "17 day output [[0.1801672]]\n",
      "18 day input [0.11724483 0.11887289 0.12485911 0.12090169 0.11829681 0.10552286\n",
      " 0.10697558 0.10339386 0.10567314 0.10507201 0.09823419 0.09041954\n",
      " 0.09164684 0.0977082  0.10016281 0.10038823 0.09650595 0.0878397\n",
      " 0.09014402 0.08681277 0.08969317 0.08090169 0.08583594 0.08806512\n",
      " 0.09129618 0.09031935 0.09009393 0.08683782 0.085335   0.09247339\n",
      " 0.09517846 0.09946149 0.10499687 0.10624922 0.10680025 0.10482154\n",
      " 0.10469631 0.1063995  0.10522229 0.11453976 0.10760175 0.10549781\n",
      " 0.10815279 0.11183469 0.1105072  0.1113087  0.10920476 0.1101315\n",
      " 0.10289292 0.10276769 0.10807765 0.10810269 0.11060739 0.11684408\n",
      " 0.12781465 0.13452724 0.13570445 0.13668128 0.13800877 0.12515967\n",
      " 0.13375078 0.14642455 0.14509706 0.14256731 0.1377583  0.14647464\n",
      " 0.16115216 0.17092048 0.16961803 0.181866   0.17257358 0.16904195\n",
      " 0.18149029 0.16385723 0.16105197 0.15757044 0.16568566 0.17232311\n",
      " 0.17392611 0.18407013 0.18146525 0.18169067 0.17432146 0.17600258\n",
      " 0.17718977 0.17796104 0.17844544 0.17875506 0.1789673  0.17912866\n",
      " 0.17926404 0.17938548 0.17949833 0.17960487 0.17970631 0.17980346\n",
      " 0.17989726 0.17998861 0.18007831 0.1801672 ]\n",
      "18 day output [[0.18025592]]\n",
      "19 day input [0.11887289 0.12485911 0.12090169 0.11829681 0.10552286 0.10697558\n",
      " 0.10339386 0.10567314 0.10507201 0.09823419 0.09041954 0.09164684\n",
      " 0.0977082  0.10016281 0.10038823 0.09650595 0.0878397  0.09014402\n",
      " 0.08681277 0.08969317 0.08090169 0.08583594 0.08806512 0.09129618\n",
      " 0.09031935 0.09009393 0.08683782 0.085335   0.09247339 0.09517846\n",
      " 0.09946149 0.10499687 0.10624922 0.10680025 0.10482154 0.10469631\n",
      " 0.1063995  0.10522229 0.11453976 0.10760175 0.10549781 0.10815279\n",
      " 0.11183469 0.1105072  0.1113087  0.10920476 0.1101315  0.10289292\n",
      " 0.10276769 0.10807765 0.10810269 0.11060739 0.11684408 0.12781465\n",
      " 0.13452724 0.13570445 0.13668128 0.13800877 0.12515967 0.13375078\n",
      " 0.14642455 0.14509706 0.14256731 0.1377583  0.14647464 0.16115216\n",
      " 0.17092048 0.16961803 0.181866   0.17257358 0.16904195 0.18149029\n",
      " 0.16385723 0.16105197 0.15757044 0.16568566 0.17232311 0.17392611\n",
      " 0.18407013 0.18146525 0.18169067 0.17432146 0.17600258 0.17718977\n",
      " 0.17796104 0.17844544 0.17875506 0.1789673  0.17912866 0.17926404\n",
      " 0.17938548 0.17949833 0.17960487 0.17970631 0.17980346 0.17989726\n",
      " 0.17998861 0.18007831 0.1801672  0.18025592]\n"
     ]
    },
    {
     "name": "stdout",
     "output_type": "stream",
     "text": [
      "19 day output [[0.180345]]\n",
      "20 day input [0.12485911 0.12090169 0.11829681 0.10552286 0.10697558 0.10339386\n",
      " 0.10567314 0.10507201 0.09823419 0.09041954 0.09164684 0.0977082\n",
      " 0.10016281 0.10038823 0.09650595 0.0878397  0.09014402 0.08681277\n",
      " 0.08969317 0.08090169 0.08583594 0.08806512 0.09129618 0.09031935\n",
      " 0.09009393 0.08683782 0.085335   0.09247339 0.09517846 0.09946149\n",
      " 0.10499687 0.10624922 0.10680025 0.10482154 0.10469631 0.1063995\n",
      " 0.10522229 0.11453976 0.10760175 0.10549781 0.10815279 0.11183469\n",
      " 0.1105072  0.1113087  0.10920476 0.1101315  0.10289292 0.10276769\n",
      " 0.10807765 0.10810269 0.11060739 0.11684408 0.12781465 0.13452724\n",
      " 0.13570445 0.13668128 0.13800877 0.12515967 0.13375078 0.14642455\n",
      " 0.14509706 0.14256731 0.1377583  0.14647464 0.16115216 0.17092048\n",
      " 0.16961803 0.181866   0.17257358 0.16904195 0.18149029 0.16385723\n",
      " 0.16105197 0.15757044 0.16568566 0.17232311 0.17392611 0.18407013\n",
      " 0.18146525 0.18169067 0.17432146 0.17600258 0.17718977 0.17796104\n",
      " 0.17844544 0.17875506 0.1789673  0.17912866 0.17926404 0.17938548\n",
      " 0.17949833 0.17960487 0.17970631 0.17980346 0.17989726 0.17998861\n",
      " 0.18007831 0.1801672  0.18025592 0.180345  ]\n",
      "20 day output [[0.1804349]]\n",
      "21 day input [0.12090169 0.11829681 0.10552286 0.10697558 0.10339386 0.10567314\n",
      " 0.10507201 0.09823419 0.09041954 0.09164684 0.0977082  0.10016281\n",
      " 0.10038823 0.09650595 0.0878397  0.09014402 0.08681277 0.08969317\n",
      " 0.08090169 0.08583594 0.08806512 0.09129618 0.09031935 0.09009393\n",
      " 0.08683782 0.085335   0.09247339 0.09517846 0.09946149 0.10499687\n",
      " 0.10624922 0.10680025 0.10482154 0.10469631 0.1063995  0.10522229\n",
      " 0.11453976 0.10760175 0.10549781 0.10815279 0.11183469 0.1105072\n",
      " 0.1113087  0.10920476 0.1101315  0.10289292 0.10276769 0.10807765\n",
      " 0.10810269 0.11060739 0.11684408 0.12781465 0.13452724 0.13570445\n",
      " 0.13668128 0.13800877 0.12515967 0.13375078 0.14642455 0.14509706\n",
      " 0.14256731 0.1377583  0.14647464 0.16115216 0.17092048 0.16961803\n",
      " 0.181866   0.17257358 0.16904195 0.18149029 0.16385723 0.16105197\n",
      " 0.15757044 0.16568566 0.17232311 0.17392611 0.18407013 0.18146525\n",
      " 0.18169067 0.17432146 0.17600258 0.17718977 0.17796104 0.17844544\n",
      " 0.17875506 0.1789673  0.17912866 0.17926404 0.17938548 0.17949833\n",
      " 0.17960487 0.17970631 0.17980346 0.17989726 0.17998861 0.18007831\n",
      " 0.1801672  0.18025592 0.180345   0.1804349 ]\n",
      "21 day output [[0.18052588]]\n",
      "22 day input [0.11829681 0.10552286 0.10697558 0.10339386 0.10567314 0.10507201\n",
      " 0.09823419 0.09041954 0.09164684 0.0977082  0.10016281 0.10038823\n",
      " 0.09650595 0.0878397  0.09014402 0.08681277 0.08969317 0.08090169\n",
      " 0.08583594 0.08806512 0.09129618 0.09031935 0.09009393 0.08683782\n",
      " 0.085335   0.09247339 0.09517846 0.09946149 0.10499687 0.10624922\n",
      " 0.10680025 0.10482154 0.10469631 0.1063995  0.10522229 0.11453976\n",
      " 0.10760175 0.10549781 0.10815279 0.11183469 0.1105072  0.1113087\n",
      " 0.10920476 0.1101315  0.10289292 0.10276769 0.10807765 0.10810269\n",
      " 0.11060739 0.11684408 0.12781465 0.13452724 0.13570445 0.13668128\n",
      " 0.13800877 0.12515967 0.13375078 0.14642455 0.14509706 0.14256731\n",
      " 0.1377583  0.14647464 0.16115216 0.17092048 0.16961803 0.181866\n",
      " 0.17257358 0.16904195 0.18149029 0.16385723 0.16105197 0.15757044\n",
      " 0.16568566 0.17232311 0.17392611 0.18407013 0.18146525 0.18169067\n",
      " 0.17432146 0.17600258 0.17718977 0.17796104 0.17844544 0.17875506\n",
      " 0.1789673  0.17912866 0.17926404 0.17938548 0.17949833 0.17960487\n",
      " 0.17970631 0.17980346 0.17989726 0.17998861 0.18007831 0.1801672\n",
      " 0.18025592 0.180345   0.1804349  0.18052588]\n",
      "22 day output [[0.18061818]]\n",
      "23 day input [0.10552286 0.10697558 0.10339386 0.10567314 0.10507201 0.09823419\n",
      " 0.09041954 0.09164684 0.0977082  0.10016281 0.10038823 0.09650595\n",
      " 0.0878397  0.09014402 0.08681277 0.08969317 0.08090169 0.08583594\n",
      " 0.08806512 0.09129618 0.09031935 0.09009393 0.08683782 0.085335\n",
      " 0.09247339 0.09517846 0.09946149 0.10499687 0.10624922 0.10680025\n",
      " 0.10482154 0.10469631 0.1063995  0.10522229 0.11453976 0.10760175\n",
      " 0.10549781 0.10815279 0.11183469 0.1105072  0.1113087  0.10920476\n",
      " 0.1101315  0.10289292 0.10276769 0.10807765 0.10810269 0.11060739\n",
      " 0.11684408 0.12781465 0.13452724 0.13570445 0.13668128 0.13800877\n",
      " 0.12515967 0.13375078 0.14642455 0.14509706 0.14256731 0.1377583\n",
      " 0.14647464 0.16115216 0.17092048 0.16961803 0.181866   0.17257358\n",
      " 0.16904195 0.18149029 0.16385723 0.16105197 0.15757044 0.16568566\n",
      " 0.17232311 0.17392611 0.18407013 0.18146525 0.18169067 0.17432146\n",
      " 0.17600258 0.17718977 0.17796104 0.17844544 0.17875506 0.1789673\n",
      " 0.17912866 0.17926404 0.17938548 0.17949833 0.17960487 0.17970631\n",
      " 0.17980346 0.17989726 0.17998861 0.18007831 0.1801672  0.18025592\n",
      " 0.180345   0.1804349  0.18052588 0.18061818]\n",
      "23 day output [[0.18071194]]\n",
      "24 day input [0.10697558 0.10339386 0.10567314 0.10507201 0.09823419 0.09041954\n",
      " 0.09164684 0.0977082  0.10016281 0.10038823 0.09650595 0.0878397\n",
      " 0.09014402 0.08681277 0.08969317 0.08090169 0.08583594 0.08806512\n",
      " 0.09129618 0.09031935 0.09009393 0.08683782 0.085335   0.09247339\n",
      " 0.09517846 0.09946149 0.10499687 0.10624922 0.10680025 0.10482154\n",
      " 0.10469631 0.1063995  0.10522229 0.11453976 0.10760175 0.10549781\n",
      " 0.10815279 0.11183469 0.1105072  0.1113087  0.10920476 0.1101315\n",
      " 0.10289292 0.10276769 0.10807765 0.10810269 0.11060739 0.11684408\n",
      " 0.12781465 0.13452724 0.13570445 0.13668128 0.13800877 0.12515967\n",
      " 0.13375078 0.14642455 0.14509706 0.14256731 0.1377583  0.14647464\n",
      " 0.16115216 0.17092048 0.16961803 0.181866   0.17257358 0.16904195\n",
      " 0.18149029 0.16385723 0.16105197 0.15757044 0.16568566 0.17232311\n",
      " 0.17392611 0.18407013 0.18146525 0.18169067 0.17432146 0.17600258\n",
      " 0.17718977 0.17796104 0.17844544 0.17875506 0.1789673  0.17912866\n",
      " 0.17926404 0.17938548 0.17949833 0.17960487 0.17970631 0.17980346\n",
      " 0.17989726 0.17998861 0.18007831 0.1801672  0.18025592 0.180345\n",
      " 0.1804349  0.18052588 0.18061818 0.18071194]\n",
      "24 day output [[0.18080716]]\n",
      "25 day input [0.10339386 0.10567314 0.10507201 0.09823419 0.09041954 0.09164684\n",
      " 0.0977082  0.10016281 0.10038823 0.09650595 0.0878397  0.09014402\n",
      " 0.08681277 0.08969317 0.08090169 0.08583594 0.08806512 0.09129618\n",
      " 0.09031935 0.09009393 0.08683782 0.085335   0.09247339 0.09517846\n",
      " 0.09946149 0.10499687 0.10624922 0.10680025 0.10482154 0.10469631\n",
      " 0.1063995  0.10522229 0.11453976 0.10760175 0.10549781 0.10815279\n",
      " 0.11183469 0.1105072  0.1113087  0.10920476 0.1101315  0.10289292\n",
      " 0.10276769 0.10807765 0.10810269 0.11060739 0.11684408 0.12781465\n",
      " 0.13452724 0.13570445 0.13668128 0.13800877 0.12515967 0.13375078\n",
      " 0.14642455 0.14509706 0.14256731 0.1377583  0.14647464 0.16115216\n",
      " 0.17092048 0.16961803 0.181866   0.17257358 0.16904195 0.18149029\n",
      " 0.16385723 0.16105197 0.15757044 0.16568566 0.17232311 0.17392611\n",
      " 0.18407013 0.18146525 0.18169067 0.17432146 0.17600258 0.17718977\n",
      " 0.17796104 0.17844544 0.17875506 0.1789673  0.17912866 0.17926404\n",
      " 0.17938548 0.17949833 0.17960487 0.17970631 0.17980346 0.17989726\n",
      " 0.17998861 0.18007831 0.1801672  0.18025592 0.180345   0.1804349\n",
      " 0.18052588 0.18061818 0.18071194 0.18080716]\n",
      "25 day output [[0.18090394]]\n",
      "26 day input [0.10567314 0.10507201 0.09823419 0.09041954 0.09164684 0.0977082\n",
      " 0.10016281 0.10038823 0.09650595 0.0878397  0.09014402 0.08681277\n",
      " 0.08969317 0.08090169 0.08583594 0.08806512 0.09129618 0.09031935\n",
      " 0.09009393 0.08683782 0.085335   0.09247339 0.09517846 0.09946149\n",
      " 0.10499687 0.10624922 0.10680025 0.10482154 0.10469631 0.1063995\n",
      " 0.10522229 0.11453976 0.10760175 0.10549781 0.10815279 0.11183469\n",
      " 0.1105072  0.1113087  0.10920476 0.1101315  0.10289292 0.10276769\n",
      " 0.10807765 0.10810269 0.11060739 0.11684408 0.12781465 0.13452724\n",
      " 0.13570445 0.13668128 0.13800877 0.12515967 0.13375078 0.14642455\n",
      " 0.14509706 0.14256731 0.1377583  0.14647464 0.16115216 0.17092048\n",
      " 0.16961803 0.181866   0.17257358 0.16904195 0.18149029 0.16385723\n",
      " 0.16105197 0.15757044 0.16568566 0.17232311 0.17392611 0.18407013\n",
      " 0.18146525 0.18169067 0.17432146 0.17600258 0.17718977 0.17796104\n",
      " 0.17844544 0.17875506 0.1789673  0.17912866 0.17926404 0.17938548\n",
      " 0.17949833 0.17960487 0.17970631 0.17980346 0.17989726 0.17998861\n",
      " 0.18007831 0.1801672  0.18025592 0.180345   0.1804349  0.18052588\n",
      " 0.18061818 0.18071194 0.18080716 0.18090394]\n",
      "26 day output [[0.1810022]]\n",
      "27 day input [0.10507201 0.09823419 0.09041954 0.09164684 0.0977082  0.10016281\n",
      " 0.10038823 0.09650595 0.0878397  0.09014402 0.08681277 0.08969317\n",
      " 0.08090169 0.08583594 0.08806512 0.09129618 0.09031935 0.09009393\n",
      " 0.08683782 0.085335   0.09247339 0.09517846 0.09946149 0.10499687\n",
      " 0.10624922 0.10680025 0.10482154 0.10469631 0.1063995  0.10522229\n",
      " 0.11453976 0.10760175 0.10549781 0.10815279 0.11183469 0.1105072\n",
      " 0.1113087  0.10920476 0.1101315  0.10289292 0.10276769 0.10807765\n",
      " 0.10810269 0.11060739 0.11684408 0.12781465 0.13452724 0.13570445\n",
      " 0.13668128 0.13800877 0.12515967 0.13375078 0.14642455 0.14509706\n",
      " 0.14256731 0.1377583  0.14647464 0.16115216 0.17092048 0.16961803\n",
      " 0.181866   0.17257358 0.16904195 0.18149029 0.16385723 0.16105197\n",
      " 0.15757044 0.16568566 0.17232311 0.17392611 0.18407013 0.18146525\n",
      " 0.18169067 0.17432146 0.17600258 0.17718977 0.17796104 0.17844544\n",
      " 0.17875506 0.1789673  0.17912866 0.17926404 0.17938548 0.17949833\n",
      " 0.17960487 0.17970631 0.17980346 0.17989726 0.17998861 0.18007831\n",
      " 0.1801672  0.18025592 0.180345   0.1804349  0.18052588 0.18061818\n",
      " 0.18071194 0.18080716 0.18090394 0.1810022 ]\n"
     ]
    },
    {
     "name": "stdout",
     "output_type": "stream",
     "text": [
      "27 day output [[0.18110186]]\n",
      "28 day input [0.09823419 0.09041954 0.09164684 0.0977082  0.10016281 0.10038823\n",
      " 0.09650595 0.0878397  0.09014402 0.08681277 0.08969317 0.08090169\n",
      " 0.08583594 0.08806512 0.09129618 0.09031935 0.09009393 0.08683782\n",
      " 0.085335   0.09247339 0.09517846 0.09946149 0.10499687 0.10624922\n",
      " 0.10680025 0.10482154 0.10469631 0.1063995  0.10522229 0.11453976\n",
      " 0.10760175 0.10549781 0.10815279 0.11183469 0.1105072  0.1113087\n",
      " 0.10920476 0.1101315  0.10289292 0.10276769 0.10807765 0.10810269\n",
      " 0.11060739 0.11684408 0.12781465 0.13452724 0.13570445 0.13668128\n",
      " 0.13800877 0.12515967 0.13375078 0.14642455 0.14509706 0.14256731\n",
      " 0.1377583  0.14647464 0.16115216 0.17092048 0.16961803 0.181866\n",
      " 0.17257358 0.16904195 0.18149029 0.16385723 0.16105197 0.15757044\n",
      " 0.16568566 0.17232311 0.17392611 0.18407013 0.18146525 0.18169067\n",
      " 0.17432146 0.17600258 0.17718977 0.17796104 0.17844544 0.17875506\n",
      " 0.1789673  0.17912866 0.17926404 0.17938548 0.17949833 0.17960487\n",
      " 0.17970631 0.17980346 0.17989726 0.17998861 0.18007831 0.1801672\n",
      " 0.18025592 0.180345   0.1804349  0.18052588 0.18061818 0.18071194\n",
      " 0.18080716 0.18090394 0.1810022  0.18110186]\n",
      "28 day output [[0.18120289]]\n",
      "29 day input [0.09041954 0.09164684 0.0977082  0.10016281 0.10038823 0.09650595\n",
      " 0.0878397  0.09014402 0.08681277 0.08969317 0.08090169 0.08583594\n",
      " 0.08806512 0.09129618 0.09031935 0.09009393 0.08683782 0.085335\n",
      " 0.09247339 0.09517846 0.09946149 0.10499687 0.10624922 0.10680025\n",
      " 0.10482154 0.10469631 0.1063995  0.10522229 0.11453976 0.10760175\n",
      " 0.10549781 0.10815279 0.11183469 0.1105072  0.1113087  0.10920476\n",
      " 0.1101315  0.10289292 0.10276769 0.10807765 0.10810269 0.11060739\n",
      " 0.11684408 0.12781465 0.13452724 0.13570445 0.13668128 0.13800877\n",
      " 0.12515967 0.13375078 0.14642455 0.14509706 0.14256731 0.1377583\n",
      " 0.14647464 0.16115216 0.17092048 0.16961803 0.181866   0.17257358\n",
      " 0.16904195 0.18149029 0.16385723 0.16105197 0.15757044 0.16568566\n",
      " 0.17232311 0.17392611 0.18407013 0.18146525 0.18169067 0.17432146\n",
      " 0.17600258 0.17718977 0.17796104 0.17844544 0.17875506 0.1789673\n",
      " 0.17912866 0.17926404 0.17938548 0.17949833 0.17960487 0.17970631\n",
      " 0.17980346 0.17989726 0.17998861 0.18007831 0.1801672  0.18025592\n",
      " 0.180345   0.1804349  0.18052588 0.18061818 0.18071194 0.18080716\n",
      " 0.18090394 0.1810022  0.18110186 0.18120289]\n",
      "29 day output [[0.18130513]]\n",
      "[[0.17432145774364471], [0.17600257694721222], [0.17718976736068726], [0.17796103656291962], [0.17844544351100922], [0.17875505983829498], [0.17896729707717896], [0.17912866175174713], [0.17926403880119324], [0.1793854832649231], [0.1794983297586441], [0.17960487306118011], [0.17970630526542664], [0.17980346083641052], [0.1798972636461258], [0.17998860776424408], [0.18007831275463104], [0.18016719818115234], [0.1802559196949005], [0.18034499883651733], [0.18043489754199982], [0.18052588403224945], [0.18061818182468414], [0.18071193993091583], [0.18080715835094452], [0.18090394139289856], [0.1810021996498108], [0.18110185861587524], [0.18120288848876953], [0.18130512535572052]]\n"
     ]
    }
   ],
   "source": [
    "# demonstrate prediction for next 10 days\n",
    "from numpy import array\n",
    "\n",
    "lst_output=[]\n",
    "n_steps=100\n",
    "i=0\n",
    "while(i<30):\n",
    "    \n",
    "    if(len(temp_input)>100):\n",
    "        #print(temp_input)\n",
    "        x_input=np.array(temp_input[1:])\n",
    "        print(\"{} day input {}\".format(i,x_input))\n",
    "        x_input=x_input.reshape(1,-1)\n",
    "        x_input = x_input.reshape((1, n_steps, 1))\n",
    "        #print(x_input)\n",
    "        yhat = model.predict(x_input, verbose=0)\n",
    "        print(\"{} day output {}\".format(i,yhat))\n",
    "        temp_input.extend(yhat[0].tolist())\n",
    "        temp_input=temp_input[1:]\n",
    "        #print(temp_input)\n",
    "        lst_output.extend(yhat.tolist())\n",
    "        i=i+1\n",
    "    else:\n",
    "        x_input = x_input.reshape((1, n_steps,1))\n",
    "        yhat = model.predict(x_input, verbose=0)\n",
    "        print(yhat[0])\n",
    "        temp_input.extend(yhat[0].tolist())\n",
    "        print(len(temp_input))\n",
    "        lst_output.extend(yhat.tolist())\n",
    "        i=i+1\n",
    "    \n",
    "\n",
    "print(lst_output)"
   ]
  },
  {
   "cell_type": "code",
   "execution_count": 106,
   "metadata": {},
   "outputs": [],
   "source": [
    "day_new=np.arange(1,101)\n",
    "day_pred=np.arange(101,131)"
   ]
  },
  {
   "cell_type": "code",
   "execution_count": 107,
   "metadata": {},
   "outputs": [],
   "source": [
    "import matplotlib.pyplot as plt"
   ]
  },
  {
   "cell_type": "code",
   "execution_count": 108,
   "metadata": {},
   "outputs": [
    {
     "data": {
      "text/plain": [
       "1257"
      ]
     },
     "execution_count": 108,
     "metadata": {},
     "output_type": "execute_result"
    }
   ],
   "source": [
    "len(df1)"
   ]
  },
  {
   "cell_type": "code",
   "execution_count": 392,
   "metadata": {},
   "outputs": [],
   "source": []
  },
  {
   "cell_type": "code",
   "execution_count": 110,
   "metadata": {},
   "outputs": [
    {
     "data": {
      "text/plain": [
       "[<matplotlib.lines.Line2D at 0x7f99d029fc88>]"
      ]
     },
     "execution_count": 110,
     "metadata": {},
     "output_type": "execute_result"
    },
    {
     "data": {
      "image/png": "[encoded data removed]",
      "text/plain": [
       "<Figure size 432x288 with 1 Axes>"
      ]
     },
     "metadata": {
      "needs_background": "light"
     },
     "output_type": "display_data"
    }
   ],
   "source": [
    "plt.plot(day_new,scaler.inverse_transform(df1[1157:]))\n",
    "plt.plot(day_pred,scaler.inverse_transform(lst_output))"
   ]
  },
  {
   "cell_type": "code",
   "execution_count": 111,
   "metadata": {},
   "outputs": [
    {
     "data": {
      "text/plain": [
       "[<matplotlib.lines.Line2D at 0x7f9a4123a9b0>]"
      ]
     },
     "execution_count": 111,
     "metadata": {},
     "output_type": "execute_result"
    },
    {
     "data": {
      "image/png": "[encoded data removed]",
      "text/plain": [
       "<Figure size 432x288 with 1 Axes>"
      ]
     },
     "metadata": {
      "needs_background": "light"
     },
     "output_type": "display_data"
    }
   ],
   "source": [
    "df3=df1.tolist()\n",
    "df3.extend(lst_output)\n",
    "plt.plot(df3[1200:])"
   ]
  },
  {
   "cell_type": "code",
   "execution_count": 114,
   "metadata": {},
   "outputs": [],
   "source": [
    "df3=scaler.inverse_transform(df3).tolist()"
   ]
  },
  {
   "cell_type": "code",
   "execution_count": 115,
   "metadata": {},
   "outputs": [
    {
     "data": {
      "text/plain": [
       "[<matplotlib.lines.Line2D at 0x7f99f56cc860>]"
      ]
     },
     "execution_count": 115,
     "metadata": {},
     "output_type": "execute_result"
    },
    {
     "data": {
      "image/png": "[encoded data removed]",
      "text/plain": [
       "<Figure size 432x288 with 1 Axes>"
      ]
     },
     "metadata": {
      "needs_background": "light"
     },
     "output_type": "display_data"
    }
   ],
   "source": [
    "plt.plot(df3)"
   ]
  },
  {
   "cell_type": "code",
   "execution_count": null,
   "metadata": {},
   "outputs": [],
   "source": []
  }
 ],
 "metadata": {
  "kernelspec": {
   "display_name": "Python 3",
   "language": "python",
   "name": "python3"
  },
  "language_info": {
   "codemirror_mode": {
    "name": "ipython",
    "version": 3
   },
   "file_extension": ".py",
   "mimetype": "text/x-python",
   "name": "python",
   "nbconvert_exporter": "python",
   "pygments_lexer": "ipython3",
   "version": "3.6.13"
  }
 },
 "nbformat": 4,
 "nbformat_minor": 2
}
