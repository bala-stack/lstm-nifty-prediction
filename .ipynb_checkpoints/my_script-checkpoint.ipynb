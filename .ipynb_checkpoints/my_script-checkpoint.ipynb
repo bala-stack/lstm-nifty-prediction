{
 "cells": [
  {
   "cell_type": "markdown",
   "metadata": {},
   "source": [
    "### Stock Market Prediction And Forecasting Using Stacked LSTM"
   ]
  },
  {
   "cell_type": "code",
   "execution_count": null,
   "metadata": {},
   "outputs": [],
   "source": [
    "### Keras and Tensorflow >2.0\n",
    "### Author: Bala Amonkar\n",
    "### Last update: 30/12/2021\n",
    "### Version: 1.0.0\n",
    "### Recomended Jupyter Notebook made \n",
    "### Included in Anaconda - Navigator\n",
    "### Create an enviroment with Python 3.6 for tensor to work properly"
   ]
  },
  {
   "cell_type": "code",
   "execution_count": 5,
   "metadata": {},
   "outputs": [],
   "source": [
    "### Data Collection\n",
    "### Comment: Incase you want to fetch the market CSV from tiingo register and get a ke\n",
    "### Supports only the american equitie\n",
    "# import pandas_datareader as pdr\n",
    "# key=\"\" #Key received from tiingo after registration on tiingo"
   ]
  },
  {
   "cell_type": "code",
   "execution_count": 9,
   "metadata": {},
   "outputs": [],
   "source": [
    "# df = pdr.get_data_tiingo('AAPL', api_key=key)"
   ]
  },
  {
   "cell_type": "code",
   "execution_count": 10,
   "metadata": {},
   "outputs": [],
   "source": [
    "# df.to_csv('NIFTY.csv')"
   ]
  },
  {
   "cell_type": "code",
   "execution_count": 120,
   "metadata": {},
   "outputs": [],
   "source": [
    "import pandas as pd"
   ]
  },
  {
   "cell_type": "code",
   "execution_count": 121,
   "metadata": {},
   "outputs": [],
   "source": [
    "### Bala: for Indian markets and other search on internet and download a csv file \n",
    "### I have made available NIFTY 50 Index for your reference\n",
    "\n",
    "df=pd.read_csv('nifty.csv')"
   ]
  },
  {
   "cell_type": "code",
   "execution_count": 122,
   "metadata": {},
   "outputs": [
    {
     "data": {
      "text/html": [
       "<div>\n",
       "<style scoped>\n",
       "    .dataframe tbody tr th:only-of-type {\n",
       "        vertical-align: middle;\n",
       "    }\n",
       "\n",
       "    .dataframe tbody tr th {\n",
       "        vertical-align: top;\n",
       "    }\n",
       "\n",
       "    .dataframe thead th {\n",
       "        text-align: right;\n",
       "    }\n",
       "</style>\n",
       "<table border=\"1\" class=\"dataframe\">\n",
       "  <thead>\n",
       "    <tr style=\"text-align: right;\">\n",
       "      <th></th>\n",
       "      <th>Date</th>\n",
       "      <th>Open</th>\n",
       "      <th>High</th>\n",
       "      <th>Low</th>\n",
       "      <th>Close</th>\n",
       "      <th>Volume</th>\n",
       "    </tr>\n",
       "  </thead>\n",
       "  <tbody>\n",
       "    <tr>\n",
       "      <th>0</th>\n",
       "      <td>03-Jan-05</td>\n",
       "      <td>2080.00</td>\n",
       "      <td>2118.60</td>\n",
       "      <td>2080.00</td>\n",
       "      <td>2115.0</td>\n",
       "      <td>161679423</td>\n",
       "    </tr>\n",
       "    <tr>\n",
       "      <th>1</th>\n",
       "      <td>04-Jan-05</td>\n",
       "      <td>2116.95</td>\n",
       "      <td>2120.15</td>\n",
       "      <td>2100.55</td>\n",
       "      <td>2103.7</td>\n",
       "      <td>161679423</td>\n",
       "    </tr>\n",
       "    <tr>\n",
       "      <th>2</th>\n",
       "      <td>05-Jan-05</td>\n",
       "      <td>2103.75</td>\n",
       "      <td>2105.10</td>\n",
       "      <td>1990.15</td>\n",
       "      <td>2032.2</td>\n",
       "      <td>161679423</td>\n",
       "    </tr>\n",
       "    <tr>\n",
       "      <th>3</th>\n",
       "      <td>06-Jan-05</td>\n",
       "      <td>2031.55</td>\n",
       "      <td>2035.65</td>\n",
       "      <td>1984.25</td>\n",
       "      <td>1998.3</td>\n",
       "      <td>161679423</td>\n",
       "    </tr>\n",
       "    <tr>\n",
       "      <th>4</th>\n",
       "      <td>07-Jan-05</td>\n",
       "      <td>1998.25</td>\n",
       "      <td>2021.45</td>\n",
       "      <td>1992.55</td>\n",
       "      <td>2015.5</td>\n",
       "      <td>161679423</td>\n",
       "    </tr>\n",
       "  </tbody>\n",
       "</table>\n",
       "</div>"
      ],
      "text/plain": [
       "        Date     Open     High      Low   Close     Volume\n",
       "0  03-Jan-05  2080.00  2118.60  2080.00  2115.0  161679423\n",
       "1  04-Jan-05  2116.95  2120.15  2100.55  2103.7  161679423\n",
       "2  05-Jan-05  2103.75  2105.10  1990.15  2032.2  161679423\n",
       "3  06-Jan-05  2031.55  2035.65  1984.25  1998.3  161679423\n",
       "4  07-Jan-05  1998.25  2021.45  1992.55  2015.5  161679423"
      ]
     },
     "execution_count": 122,
     "metadata": {},
     "output_type": "execute_result"
    }
   ],
   "source": [
    "df.head()"
   ]
  },
  {
   "cell_type": "code",
   "execution_count": 123,
   "metadata": {},
   "outputs": [
    {
     "data": {
      "text/html": [
       "<div>\n",
       "<style scoped>\n",
       "    .dataframe tbody tr th:only-of-type {\n",
       "        vertical-align: middle;\n",
       "    }\n",
       "\n",
       "    .dataframe tbody tr th {\n",
       "        vertical-align: top;\n",
       "    }\n",
       "\n",
       "    .dataframe thead th {\n",
       "        text-align: right;\n",
       "    }\n",
       "</style>\n",
       "<table border=\"1\" class=\"dataframe\">\n",
       "  <thead>\n",
       "    <tr style=\"text-align: right;\">\n",
       "      <th></th>\n",
       "      <th>Date</th>\n",
       "      <th>Open</th>\n",
       "      <th>High</th>\n",
       "      <th>Low</th>\n",
       "      <th>Close</th>\n",
       "      <th>Volume</th>\n",
       "    </tr>\n",
       "  </thead>\n",
       "  <tbody>\n",
       "    <tr>\n",
       "      <th>3977</th>\n",
       "      <td>23-Dec-21</td>\n",
       "      <td>17066.80</td>\n",
       "      <td>17118.65</td>\n",
       "      <td>17015.55</td>\n",
       "      <td>17072.60</td>\n",
       "      <td>161679423</td>\n",
       "    </tr>\n",
       "    <tr>\n",
       "      <th>3978</th>\n",
       "      <td>24-Dec-21</td>\n",
       "      <td>17149.50</td>\n",
       "      <td>17155.60</td>\n",
       "      <td>16909.60</td>\n",
       "      <td>17003.75</td>\n",
       "      <td>161679423</td>\n",
       "    </tr>\n",
       "    <tr>\n",
       "      <th>3979</th>\n",
       "      <td>27-Dec-21</td>\n",
       "      <td>16937.75</td>\n",
       "      <td>17112.05</td>\n",
       "      <td>16833.20</td>\n",
       "      <td>17086.25</td>\n",
       "      <td>161679423</td>\n",
       "    </tr>\n",
       "    <tr>\n",
       "      <th>3980</th>\n",
       "      <td>28-Dec-21</td>\n",
       "      <td>17177.60</td>\n",
       "      <td>17250.25</td>\n",
       "      <td>17161.15</td>\n",
       "      <td>17233.25</td>\n",
       "      <td>161679423</td>\n",
       "    </tr>\n",
       "    <tr>\n",
       "      <th>3981</th>\n",
       "      <td>29-Dec-21</td>\n",
       "      <td>17220.10</td>\n",
       "      <td>17285.95</td>\n",
       "      <td>17176.65</td>\n",
       "      <td>17213.60</td>\n",
       "      <td>161679423</td>\n",
       "    </tr>\n",
       "  </tbody>\n",
       "</table>\n",
       "</div>"
      ],
      "text/plain": [
       "           Date      Open      High       Low     Close     Volume\n",
       "3977  23-Dec-21  17066.80  17118.65  17015.55  17072.60  161679423\n",
       "3978  24-Dec-21  17149.50  17155.60  16909.60  17003.75  161679423\n",
       "3979  27-Dec-21  16937.75  17112.05  16833.20  17086.25  161679423\n",
       "3980  28-Dec-21  17177.60  17250.25  17161.15  17233.25  161679423\n",
       "3981  29-Dec-21  17220.10  17285.95  17176.65  17213.60  161679423"
      ]
     },
     "execution_count": 123,
     "metadata": {},
     "output_type": "execute_result"
    }
   ],
   "source": [
    "df.tail()"
   ]
  },
  {
   "cell_type": "code",
   "execution_count": 125,
   "metadata": {},
   "outputs": [],
   "source": [
    "df1=df.reset_index()['Close']"
   ]
  },
  {
   "cell_type": "code",
   "execution_count": 16,
   "metadata": {},
   "outputs": [
    {
     "data": {
      "text/plain": [
       "0       116.15\n",
       "1       116.02\n",
       "2       116.61\n",
       "3       117.91\n",
       "4       118.99\n",
       "         ...  \n",
       "1252    175.64\n",
       "1253    176.28\n",
       "1254    180.33\n",
       "1255    179.29\n",
       "1256    179.38\n",
       "Name: close, Length: 1257, dtype: float64"
      ]
     },
     "execution_count": 16,
     "metadata": {},
     "output_type": "execute_result"
    }
   ],
   "source": [
    "df1"
   ]
  },
  {
   "cell_type": "code",
   "execution_count": 126,
   "metadata": {},
   "outputs": [
    {
     "data": {
      "text/plain": [
       "[<matplotlib.lines.Line2D at 0x7f9a044184a8>]"
      ]
     },
     "execution_count": 126,
     "metadata": {},
     "output_type": "execute_result"
    },
    {
     "data": {
      "image/png": "[encoded data removed]",
      "text/plain": [
       "<Figure size 432x288 with 1 Axes>"
      ]
     },
     "metadata": {
      "needs_background": "light"
     },
     "output_type": "display_data"
    }
   ],
   "source": [
    "import matplotlib.pyplot as plt\n",
    "plt.plot(df1)"
   ]
  },
  {
   "cell_type": "code",
   "execution_count": 291,
   "metadata": {},
   "outputs": [],
   "source": [
    "### LSTM are sensitive to the scale of the data. so we apply MinMax scaler "
   ]
  },
  {
   "cell_type": "code",
   "execution_count": 127,
   "metadata": {},
   "outputs": [],
   "source": [
    "import numpy as np"
   ]
  },
  {
   "cell_type": "code",
   "execution_count": 128,
   "metadata": {},
   "outputs": [
    {
     "data": {
      "text/plain": [
       "0        2115.00\n",
       "1        2103.70\n",
       "2        2032.20\n",
       "3        1998.30\n",
       "4        2015.50\n",
       "          ...   \n",
       "3977    17072.60\n",
       "3978    17003.75\n",
       "3979    17086.25\n",
       "3980    17233.25\n",
       "3981    17213.60\n",
       "Name: Close, Length: 3982, dtype: float64"
      ]
     },
     "execution_count": 128,
     "metadata": {},
     "output_type": "execute_result"
    }
   ],
   "source": [
    "df1"
   ]
  },
  {
   "cell_type": "code",
   "execution_count": 129,
   "metadata": {},
   "outputs": [],
   "source": [
    "from sklearn.preprocessing import MinMaxScaler\n",
    "scaler=MinMaxScaler(feature_range=(0,1))\n",
    "df1=scaler.fit_transform(np.array(df1).reshape(-1,1))"
   ]
  },
  {
   "cell_type": "code",
   "execution_count": 130,
   "metadata": {},
   "outputs": [
    {
     "name": "stdout",
     "output_type": "stream",
     "text": [
      "[[0.01282086]\n",
      " [0.01213909]\n",
      " [0.00782525]\n",
      " ...\n",
      " [0.91608822]\n",
      " [0.92495724]\n",
      " [0.92377169]]\n"
     ]
    }
   ],
   "source": [
    "print(df1)"
   ]
  },
  {
   "cell_type": "code",
   "execution_count": 131,
   "metadata": {},
   "outputs": [],
   "source": [
    "##splitting dataset into train and test split\n",
    "training_size=int(len(df1)*0.65)\n",
    "test_size=len(df1)-training_size\n",
    "train_data,test_data=df1[0:training_size,:],df1[training_size:len(df1),:1]"
   ]
  },
  {
   "cell_type": "code",
   "execution_count": 132,
   "metadata": {},
   "outputs": [
    {
     "data": {
      "text/plain": [
       "(2588, 1394)"
      ]
     },
     "execution_count": 132,
     "metadata": {},
     "output_type": "execute_result"
    }
   ],
   "source": [
    "training_size,test_size"
   ]
  },
  {
   "cell_type": "code",
   "execution_count": 133,
   "metadata": {},
   "outputs": [
    {
     "data": {
      "text/plain": [
       "array([[0.01282086],\n",
       "       [0.01213909],\n",
       "       [0.00782525],\n",
       "       ...,\n",
       "       [0.38214612],\n",
       "       [0.37603434],\n",
       "       [0.37576284]])"
      ]
     },
     "execution_count": 133,
     "metadata": {},
     "output_type": "execute_result"
    }
   ],
   "source": [
    "train_data"
   ]
  },
  {
   "cell_type": "code",
   "execution_count": 134,
   "metadata": {},
   "outputs": [],
   "source": [
    "import numpy\n",
    "# convert an array of values into a dataset matrix\n",
    "def create_dataset(dataset, time_step=1):\n",
    "\tdataX, dataY = [], []\n",
    "\tfor i in range(len(dataset)-time_step-1):\n",
    "\t\ta = dataset[i:(i+time_step), 0]   ###i=0, 0,1,2,3-----99   100 \n",
    "\t\tdataX.append(a)\n",
    "\t\tdataY.append(dataset[i + time_step, 0])\n",
    "\treturn numpy.array(dataX), numpy.array(dataY)"
   ]
  },
  {
   "cell_type": "code",
   "execution_count": 135,
   "metadata": {},
   "outputs": [],
   "source": [
    "# reshape into X=t,t+1,t+2,t+3 and Y=t+4\n",
    "time_step = 100\n",
    "X_train, y_train = create_dataset(train_data, time_step)\n",
    "X_test, ytest = create_dataset(test_data, time_step)"
   ]
  },
  {
   "cell_type": "code",
   "execution_count": 136,
   "metadata": {},
   "outputs": [
    {
     "name": "stdout",
     "output_type": "stream",
     "text": [
      "(2487, 100)\n",
      "(2487,)\n"
     ]
    },
    {
     "data": {
      "text/plain": [
       "(None, None)"
      ]
     },
     "execution_count": 136,
     "metadata": {},
     "output_type": "execute_result"
    }
   ],
   "source": [
    "print(X_train.shape), print(y_train.shape)"
   ]
  },
  {
   "cell_type": "code",
   "execution_count": 137,
   "metadata": {},
   "outputs": [
    {
     "name": "stdout",
     "output_type": "stream",
     "text": [
      "(1293, 100)\n",
      "(1293,)\n"
     ]
    },
    {
     "data": {
      "text/plain": [
       "(None, None)"
      ]
     },
     "execution_count": 137,
     "metadata": {},
     "output_type": "execute_result"
    }
   ],
   "source": [
    "print(X_test.shape), print(ytest.shape)"
   ]
  },
  {
   "cell_type": "code",
   "execution_count": 138,
   "metadata": {},
   "outputs": [],
   "source": [
    "# reshape input to be [samples, time steps, features] which is required for LSTM\n",
    "X_train =X_train.reshape(X_train.shape[0],X_train.shape[1] , 1)\n",
    "X_test = X_test.reshape(X_test.shape[0],X_test.shape[1] , 1)"
   ]
  },
  {
   "cell_type": "code",
   "execution_count": 139,
   "metadata": {},
   "outputs": [],
   "source": [
    "### Create the Stacked LSTM model\n",
    "from tensorflow.keras.models import Sequential\n",
    "from tensorflow.keras.layers import Dense\n",
    "from tensorflow.keras.layers import LSTM"
   ]
  },
  {
   "cell_type": "code",
   "execution_count": 140,
   "metadata": {},
   "outputs": [],
   "source": [
    "model=Sequential()\n",
    "model.add(LSTM(50,return_sequences=True,input_shape=(100,1)))\n",
    "model.add(LSTM(50,return_sequences=True))\n",
    "model.add(LSTM(50))\n",
    "model.add(Dense(1))\n",
    "model.compile(loss='mean_squared_error',optimizer='adam')\n"
   ]
  },
  {
   "cell_type": "code",
   "execution_count": 141,
   "metadata": {},
   "outputs": [
    {
     "name": "stdout",
     "output_type": "stream",
     "text": [
      "Model: \"sequential_1\"\n",
      "_________________________________________________________________\n",
      "Layer (type)                 Output Shape              Param #   \n",
      "=================================================================\n",
      "lstm_3 (LSTM)                (None, 100, 50)           10400     \n",
      "_________________________________________________________________\n",
      "lstm_4 (LSTM)                (None, 100, 50)           20200     \n",
      "_________________________________________________________________\n",
      "lstm_5 (LSTM)                (None, 50)                20200     \n",
      "_________________________________________________________________\n",
      "dense_1 (Dense)              (None, 1)                 51        \n",
      "=================================================================\n",
      "Total params: 50,851\n",
      "Trainable params: 50,851\n",
      "Non-trainable params: 0\n",
      "_________________________________________________________________\n"
     ]
    }
   ],
   "source": [
    "model.summary()"
   ]
  },
  {
   "cell_type": "code",
   "execution_count": 142,
   "metadata": {},
   "outputs": [
    {
     "name": "stdout",
     "output_type": "stream",
     "text": [
      "Model: \"sequential_1\"\n",
      "_________________________________________________________________\n",
      "Layer (type)                 Output Shape              Param #   \n",
      "=================================================================\n",
      "lstm_3 (LSTM)                (None, 100, 50)           10400     \n",
      "_________________________________________________________________\n",
      "lstm_4 (LSTM)                (None, 100, 50)           20200     \n",
      "_________________________________________________________________\n",
      "lstm_5 (LSTM)                (None, 50)                20200     \n",
      "_________________________________________________________________\n",
      "dense_1 (Dense)              (None, 1)                 51        \n",
      "=================================================================\n",
      "Total params: 50,851\n",
      "Trainable params: 50,851\n",
      "Non-trainable params: 0\n",
      "_________________________________________________________________\n"
     ]
    }
   ],
   "source": [
    "model.summary()"
   ]
  },
  {
   "cell_type": "code",
   "execution_count": 204,
   "metadata": {},
   "outputs": [
    {
     "name": "stdout",
     "output_type": "stream",
     "text": [
      "2021-12-30 20:24:16.836509\n"
     ]
    }
   ],
   "source": [
    "#Bala: this part take time to complile\n",
    "#log the start time to know exactly :-)\n",
    "\n",
    "import datetime\n",
    "x = datetime.datetime.now()\n",
    "print(x) "
   ]
  },
  {
   "cell_type": "code",
   "execution_count": 143,
   "metadata": {},
   "outputs": [
    {
     "name": "stdout",
     "output_type": "stream",
     "text": [
      "Train on 2487 samples, validate on 1293 samples\n",
      "Epoch 1/100\n",
      "2487/2487 [==============================] - 39s 16ms/sample - loss: 0.0049 - val_loss: 0.0018\n",
      "Epoch 2/100\n",
      "2487/2487 [==============================] - 34s 14ms/sample - loss: 2.0226e-04 - val_loss: 5.5394e-04\n",
      "Epoch 3/100\n",
      "2487/2487 [==============================] - 36s 14ms/sample - loss: 1.6277e-04 - val_loss: 5.7069e-04\n",
      "Epoch 4/100\n",
      "2487/2487 [==============================] - 41s 16ms/sample - loss: 1.5150e-04 - val_loss: 5.3604e-04\n",
      "Epoch 5/100\n",
      "2487/2487 [==============================] - 44s 18ms/sample - loss: 1.5279e-04 - val_loss: 6.6891e-04\n",
      "Epoch 6/100\n",
      "2487/2487 [==============================] - 44s 18ms/sample - loss: 1.4448e-04 - val_loss: 4.7045e-04\n",
      "Epoch 7/100\n",
      "2487/2487 [==============================] - 53s 21ms/sample - loss: 1.3894e-04 - val_loss: 4.4625e-04\n",
      "Epoch 8/100\n",
      "2487/2487 [==============================] - 45s 18ms/sample - loss: 1.3289e-04 - val_loss: 4.4832e-04\n",
      "Epoch 9/100\n",
      "2487/2487 [==============================] - 46s 18ms/sample - loss: 1.3682e-04 - val_loss: 4.7471e-04\n",
      "Epoch 10/100\n",
      "2487/2487 [==============================] - 62s 25ms/sample - loss: 1.3133e-04 - val_loss: 4.2792e-04\n",
      "Epoch 11/100\n",
      "2487/2487 [==============================] - 63s 25ms/sample - loss: 1.2353e-04 - val_loss: 3.6922e-04\n",
      "Epoch 12/100\n",
      "2487/2487 [==============================] - 64s 26ms/sample - loss: 1.1333e-04 - val_loss: 4.2554e-04\n",
      "Epoch 13/100\n",
      "2487/2487 [==============================] - 70s 28ms/sample - loss: 1.1020e-04 - val_loss: 3.4990e-04\n",
      "Epoch 14/100\n",
      "2487/2487 [==============================] - 66s 27ms/sample - loss: 1.1018e-04 - val_loss: 5.4083e-04\n",
      "Epoch 15/100\n",
      "2487/2487 [==============================] - 69s 28ms/sample - loss: 1.1031e-04 - val_loss: 3.1132e-04\n",
      "Epoch 16/100\n",
      "2487/2487 [==============================] - 63s 25ms/sample - loss: 1.0451e-04 - val_loss: 6.5800e-04\n",
      "Epoch 17/100\n",
      "2487/2487 [==============================] - 62s 25ms/sample - loss: 1.0107e-04 - val_loss: 3.0716e-04\n",
      "Epoch 18/100\n",
      "2487/2487 [==============================] - 67s 27ms/sample - loss: 1.1034e-04 - val_loss: 2.8175e-04\n",
      "Epoch 19/100\n",
      "2487/2487 [==============================] - 67s 27ms/sample - loss: 9.4085e-05 - val_loss: 5.1027e-04\n",
      "Epoch 20/100\n",
      "2487/2487 [==============================] - 67s 27ms/sample - loss: 1.1840e-04 - val_loss: 3.2709e-04\n",
      "Epoch 21/100\n",
      "2487/2487 [==============================] - 62s 25ms/sample - loss: 1.0424e-04 - val_loss: 3.0922e-04\n",
      "Epoch 22/100\n",
      "2487/2487 [==============================] - 69s 28ms/sample - loss: 8.9082e-05 - val_loss: 3.0216e-04\n",
      "Epoch 23/100\n",
      "2487/2487 [==============================] - 63s 25ms/sample - loss: 9.9142e-05 - val_loss: 4.0785e-04\n",
      "Epoch 24/100\n",
      "2487/2487 [==============================] - 64s 26ms/sample - loss: 8.5508e-05 - val_loss: 2.3478e-04\n",
      "Epoch 25/100\n",
      "2487/2487 [==============================] - 39s 16ms/sample - loss: 8.5950e-05 - val_loss: 3.7109e-04\n",
      "Epoch 26/100\n",
      "2487/2487 [==============================] - 43s 17ms/sample - loss: 9.3554e-05 - val_loss: 2.3372e-04\n",
      "Epoch 27/100\n",
      "2487/2487 [==============================] - 48s 19ms/sample - loss: 8.7254e-05 - val_loss: 2.3571e-04\n",
      "Epoch 28/100\n",
      "2487/2487 [==============================] - 50s 20ms/sample - loss: 8.6197e-05 - val_loss: 4.0054e-04\n",
      "Epoch 29/100\n",
      "2487/2487 [==============================] - 52s 21ms/sample - loss: 8.5733e-05 - val_loss: 2.2991e-04\n",
      "Epoch 30/100\n",
      "2487/2487 [==============================] - 55s 22ms/sample - loss: 8.3064e-05 - val_loss: 2.7016e-04\n",
      "Epoch 31/100\n",
      "2487/2487 [==============================] - 49s 20ms/sample - loss: 8.1275e-05 - val_loss: 2.0516e-04\n",
      "Epoch 32/100\n",
      "2487/2487 [==============================] - 56s 22ms/sample - loss: 7.8147e-05 - val_loss: 2.2836e-04\n",
      "Epoch 33/100\n",
      "2487/2487 [==============================] - 59s 24ms/sample - loss: 7.9310e-05 - val_loss: 2.1908e-04\n",
      "Epoch 34/100\n",
      "2487/2487 [==============================] - 70s 28ms/sample - loss: 7.5782e-05 - val_loss: 1.9096e-04\n",
      "Epoch 35/100\n",
      "2487/2487 [==============================] - 69s 28ms/sample - loss: 7.5769e-05 - val_loss: 2.1924e-04\n",
      "Epoch 36/100\n",
      "2487/2487 [==============================] - 70s 28ms/sample - loss: 7.5116e-05 - val_loss: 1.9426e-04\n",
      "Epoch 37/100\n",
      "2487/2487 [==============================] - 74s 30ms/sample - loss: 7.0963e-05 - val_loss: 1.8655e-04\n",
      "Epoch 38/100\n",
      "2487/2487 [==============================] - 75s 30ms/sample - loss: 6.9887e-05 - val_loss: 1.9878e-04\n",
      "Epoch 39/100\n",
      "2487/2487 [==============================] - 69s 28ms/sample - loss: 7.2176e-05 - val_loss: 2.4738e-04\n",
      "Epoch 40/100\n",
      "2487/2487 [==============================] - 75s 30ms/sample - loss: 6.8580e-05 - val_loss: 1.9520e-04\n",
      "Epoch 41/100\n",
      "2487/2487 [==============================] - 69s 28ms/sample - loss: 6.8839e-05 - val_loss: 2.1850e-04\n",
      "Epoch 42/100\n",
      "2487/2487 [==============================] - 69s 28ms/sample - loss: 8.0298e-05 - val_loss: 1.8902e-04\n",
      "Epoch 43/100\n",
      "2487/2487 [==============================] - 72s 29ms/sample - loss: 7.8298e-05 - val_loss: 1.6794e-04\n",
      "Epoch 44/100\n",
      "2487/2487 [==============================] - 68s 27ms/sample - loss: 6.5331e-05 - val_loss: 2.3107e-04\n",
      "Epoch 45/100\n",
      "2487/2487 [==============================] - 71s 28ms/sample - loss: 6.4840e-05 - val_loss: 1.7810e-04\n",
      "Epoch 46/100\n",
      "2487/2487 [==============================] - 64s 26ms/sample - loss: 6.5008e-05 - val_loss: 1.9935e-04\n",
      "Epoch 47/100\n",
      "2487/2487 [==============================] - 64s 26ms/sample - loss: 6.1796e-05 - val_loss: 1.5207e-04\n",
      "Epoch 48/100\n",
      "2487/2487 [==============================] - 67s 27ms/sample - loss: 6.1216e-05 - val_loss: 1.4600e-04\n",
      "Epoch 49/100\n",
      "2487/2487 [==============================] - 73s 29ms/sample - loss: 5.9959e-05 - val_loss: 2.0391e-04\n",
      "Epoch 50/100\n",
      "2487/2487 [==============================] - 74s 30ms/sample - loss: 6.3135e-05 - val_loss: 1.8100e-04\n",
      "Epoch 51/100\n",
      "2487/2487 [==============================] - 70s 28ms/sample - loss: 7.3693e-05 - val_loss: 1.5000e-04\n",
      "Epoch 52/100\n",
      "2487/2487 [==============================] - 65s 26ms/sample - loss: 6.2188e-05 - val_loss: 6.4588e-04\n",
      "Epoch 53/100\n",
      "2487/2487 [==============================] - 50s 20ms/sample - loss: 6.7850e-05 - val_loss: 4.2124e-04\n",
      "Epoch 54/100\n",
      "2487/2487 [==============================] - 35s 14ms/sample - loss: 5.8905e-05 - val_loss: 2.3001e-04\n",
      "Epoch 55/100\n",
      "2487/2487 [==============================] - 42s 17ms/sample - loss: 5.4260e-05 - val_loss: 1.2650e-04\n",
      "Epoch 56/100\n",
      "2487/2487 [==============================] - 51s 20ms/sample - loss: 6.3474e-05 - val_loss: 1.3573e-04\n",
      "Epoch 57/100\n",
      "2487/2487 [==============================] - 54s 22ms/sample - loss: 5.5451e-05 - val_loss: 1.3497e-04\n",
      "Epoch 58/100\n",
      "2487/2487 [==============================] - 64s 26ms/sample - loss: 5.2930e-05 - val_loss: 1.7045e-04\n",
      "Epoch 59/100\n",
      "2487/2487 [==============================] - 60s 24ms/sample - loss: 5.3021e-05 - val_loss: 1.4773e-04\n",
      "Epoch 60/100\n",
      "2487/2487 [==============================] - 55s 22ms/sample - loss: 5.0888e-05 - val_loss: 1.1769e-04\n",
      "Epoch 61/100\n",
      "2487/2487 [==============================] - 61s 24ms/sample - loss: 5.7001e-05 - val_loss: 2.2588e-04\n",
      "Epoch 62/100\n",
      "2487/2487 [==============================] - 59s 24ms/sample - loss: 5.1424e-05 - val_loss: 1.8134e-04\n",
      "Epoch 63/100\n",
      "2487/2487 [==============================] - 61s 24ms/sample - loss: 4.8433e-05 - val_loss: 2.8625e-04\n",
      "Epoch 64/100\n",
      "2487/2487 [==============================] - 59s 24ms/sample - loss: 5.1160e-05 - val_loss: 2.5278e-04\n",
      "Epoch 65/100\n",
      "2487/2487 [==============================] - 60s 24ms/sample - loss: 4.9782e-05 - val_loss: 2.5458e-04\n",
      "Epoch 66/100\n",
      "2487/2487 [==============================] - 60s 24ms/sample - loss: 5.2721e-05 - val_loss: 1.5190e-04\n",
      "Epoch 67/100\n",
      "2487/2487 [==============================] - 69s 28ms/sample - loss: 4.8463e-05 - val_loss: 1.0956e-04\n",
      "Epoch 68/100\n",
      "2487/2487 [==============================] - 64s 26ms/sample - loss: 4.5190e-05 - val_loss: 1.0461e-04\n",
      "Epoch 69/100\n",
      "2487/2487 [==============================] - 56s 22ms/sample - loss: 4.6860e-05 - val_loss: 2.9287e-04\n",
      "Epoch 70/100\n",
      "2487/2487 [==============================] - 58s 23ms/sample - loss: 4.5380e-05 - val_loss: 1.1290e-04\n",
      "Epoch 71/100\n"
     ]
    },
    {
     "name": "stdout",
     "output_type": "stream",
     "text": [
      "2487/2487 [==============================] - 63s 25ms/sample - loss: 4.3181e-05 - val_loss: 1.3448e-04\n",
      "Epoch 72/100\n",
      "2487/2487 [==============================] - 60s 24ms/sample - loss: 4.1485e-05 - val_loss: 1.0334e-04\n",
      "Epoch 73/100\n",
      "2487/2487 [==============================] - 71s 29ms/sample - loss: 3.8160e-05 - val_loss: 1.8497e-04\n",
      "Epoch 74/100\n",
      "2487/2487 [==============================] - 71s 29ms/sample - loss: 4.0308e-05 - val_loss: 2.7444e-04\n",
      "Epoch 75/100\n",
      "2487/2487 [==============================] - 68s 27ms/sample - loss: 3.7292e-05 - val_loss: 1.3790e-04\n",
      "Epoch 76/100\n",
      "2487/2487 [==============================] - 69s 28ms/sample - loss: 3.7839e-05 - val_loss: 1.0572e-04\n",
      "Epoch 77/100\n",
      "2487/2487 [==============================] - 60s 24ms/sample - loss: 3.7381e-05 - val_loss: 1.6244e-04\n",
      "Epoch 78/100\n",
      "2487/2487 [==============================] - 69s 28ms/sample - loss: 3.7081e-05 - val_loss: 9.5259e-05\n",
      "Epoch 79/100\n",
      "2487/2487 [==============================] - 70s 28ms/sample - loss: 3.4999e-05 - val_loss: 9.4282e-05\n",
      "Epoch 80/100\n",
      "2487/2487 [==============================] - 72s 29ms/sample - loss: 3.3417e-05 - val_loss: 1.7797e-04\n",
      "Epoch 81/100\n",
      "2487/2487 [==============================] - 69s 28ms/sample - loss: 3.6895e-05 - val_loss: 1.6604e-04\n",
      "Epoch 82/100\n",
      "2487/2487 [==============================] - 69s 28ms/sample - loss: 3.4744e-05 - val_loss: 1.4661e-04\n",
      "Epoch 83/100\n",
      "2487/2487 [==============================] - 34s 14ms/sample - loss: 3.3210e-05 - val_loss: 1.0756e-04\n",
      "Epoch 84/100\n",
      "2487/2487 [==============================] - 35s 14ms/sample - loss: 3.3689e-05 - val_loss: 8.8829e-05\n",
      "Epoch 85/100\n",
      "2487/2487 [==============================] - 42s 17ms/sample - loss: 3.2054e-05 - val_loss: 1.0841e-04\n",
      "Epoch 86/100\n",
      "2487/2487 [==============================] - 45s 18ms/sample - loss: 3.4575e-05 - val_loss: 1.5072e-04\n",
      "Epoch 87/100\n",
      "2487/2487 [==============================] - 43s 17ms/sample - loss: 3.5601e-05 - val_loss: 1.1701e-04\n",
      "Epoch 88/100\n",
      "2487/2487 [==============================] - 49s 20ms/sample - loss: 3.0611e-05 - val_loss: 1.5198e-04\n",
      "Epoch 89/100\n",
      "2487/2487 [==============================] - 56s 23ms/sample - loss: 3.2172e-05 - val_loss: 8.8961e-05\n",
      "Epoch 90/100\n",
      "2487/2487 [==============================] - 54s 22ms/sample - loss: 3.2622e-05 - val_loss: 8.2429e-05\n",
      "Epoch 91/100\n",
      "2487/2487 [==============================] - 57s 23ms/sample - loss: 3.0400e-05 - val_loss: 9.9668e-05\n",
      "Epoch 92/100\n",
      "2487/2487 [==============================] - 63s 25ms/sample - loss: 2.9554e-05 - val_loss: 1.0531e-04\n",
      "Epoch 93/100\n",
      "2487/2487 [==============================] - 57s 23ms/sample - loss: 2.9106e-05 - val_loss: 9.6557e-05\n",
      "Epoch 94/100\n",
      "2487/2487 [==============================] - 60s 24ms/sample - loss: 3.1326e-05 - val_loss: 8.8069e-05\n",
      "Epoch 95/100\n",
      "2487/2487 [==============================] - 67s 27ms/sample - loss: 2.7252e-05 - val_loss: 8.5401e-05\n",
      "Epoch 96/100\n",
      "2487/2487 [==============================] - 61s 25ms/sample - loss: 3.1758e-05 - val_loss: 1.1490e-04\n",
      "Epoch 97/100\n",
      "2487/2487 [==============================] - 58s 23ms/sample - loss: 2.6751e-05 - val_loss: 9.2303e-05\n",
      "Epoch 98/100\n",
      "2487/2487 [==============================] - 56s 23ms/sample - loss: 2.4690e-05 - val_loss: 1.1534e-04\n",
      "Epoch 99/100\n",
      "2487/2487 [==============================] - 61s 24ms/sample - loss: 2.7448e-05 - val_loss: 1.6009e-04\n",
      "Epoch 100/100\n",
      "2487/2487 [==============================] - 57s 23ms/sample - loss: 2.5654e-05 - val_loss: 1.0853e-04\n"
     ]
    },
    {
     "data": {
      "text/plain": [
       "<tensorflow.python.keras.callbacks.History at 0x7f99e0dee320>"
      ]
     },
     "execution_count": 143,
     "metadata": {},
     "output_type": "execute_result"
    }
   ],
   "source": [
    "model.fit(X_train,y_train,validation_data=(X_test,ytest),epochs=100,batch_size=64,verbose=1)"
   ]
  },
  {
   "cell_type": "code",
   "execution_count": 205,
   "metadata": {},
   "outputs": [
    {
     "name": "stdout",
     "output_type": "stream",
     "text": [
      "2021-12-30 20:25:19.241373\n"
     ]
    }
   ],
   "source": [
    "#Bala: above part take time to complile\n",
    "\n",
    "#end time\n",
    "x = datetime.datetime.now()\n",
    "print(x) \n",
    "\n",
    "import tensorflow as tf"
   ]
  },
  {
   "cell_type": "code",
   "execution_count": 145,
   "metadata": {},
   "outputs": [
    {
     "data": {
      "text/plain": [
       "'2.0.0'"
      ]
     },
     "execution_count": 145,
     "metadata": {},
     "output_type": "execute_result"
    }
   ],
   "source": [
    "tf.__version__"
   ]
  },
  {
   "cell_type": "code",
   "execution_count": 146,
   "metadata": {},
   "outputs": [],
   "source": [
    "### Lets Do the prediction and check performance metrics\n",
    "train_predict=model.predict(X_train)\n",
    "test_predict=model.predict(X_test)"
   ]
  },
  {
   "cell_type": "code",
   "execution_count": 147,
   "metadata": {},
   "outputs": [],
   "source": [
    "##Transformback to original form\n",
    "train_predict=scaler.inverse_transform(train_predict)\n",
    "test_predict=scaler.inverse_transform(test_predict)"
   ]
  },
  {
   "cell_type": "code",
   "execution_count": 148,
   "metadata": {},
   "outputs": [
    {
     "data": {
      "text/plain": [
       "5303.47366403452"
      ]
     },
     "execution_count": 148,
     "metadata": {},
     "output_type": "execute_result"
    }
   ],
   "source": [
    "### Calculate RMSE performance metrics\n",
    "import math\n",
    "from sklearn.metrics import mean_squared_error\n",
    "math.sqrt(mean_squared_error(y_train,train_predict))"
   ]
  },
  {
   "cell_type": "code",
   "execution_count": 149,
   "metadata": {},
   "outputs": [
    {
     "data": {
      "text/plain": [
       "11315.422535316682"
      ]
     },
     "execution_count": 149,
     "metadata": {},
     "output_type": "execute_result"
    }
   ],
   "source": [
    "### Test Data RMSE\n",
    "math.sqrt(mean_squared_error(ytest,test_predict))"
   ]
  },
  {
   "cell_type": "code",
   "execution_count": 150,
   "metadata": {},
   "outputs": [
    {
     "data": {
      "image/png": "[encoded data removed]",
      "text/plain": [
       "<Figure size 432x288 with 1 Axes>"
      ]
     },
     "metadata": {
      "needs_background": "light"
     },
     "output_type": "display_data"
    }
   ],
   "source": [
    "### Plotting \n",
    "# shift train predictions for plotting\n",
    "look_back=100\n",
    "trainPredictPlot = numpy.empty_like(df1)\n",
    "trainPredictPlot[:, :] = np.nan\n",
    "trainPredictPlot[look_back:len(train_predict)+look_back, :] = train_predict\n",
    "# shift test predictions for plotting\n",
    "testPredictPlot = numpy.empty_like(df1)\n",
    "testPredictPlot[:, :] = numpy.nan\n",
    "testPredictPlot[len(train_predict)+(look_back*2)+1:len(df1)-1, :] = test_predict\n",
    "# plot baseline and predictions\n",
    "plt.plot(scaler.inverse_transform(df1))\n",
    "plt.plot(trainPredictPlot)\n",
    "plt.plot(testPredictPlot)\n",
    "plt.show()"
   ]
  },
  {
   "cell_type": "code",
   "execution_count": 151,
   "metadata": {},
   "outputs": [
    {
     "data": {
      "text/plain": [
       "1394"
      ]
     },
     "execution_count": 151,
     "metadata": {},
     "output_type": "execute_result"
    }
   ],
   "source": [
    "len(test_data)"
   ]
  },
  {
   "cell_type": "code",
   "execution_count": 167,
   "metadata": {},
   "outputs": [
    {
     "data": {
      "text/plain": [
       "(1, 100)"
      ]
     },
     "execution_count": 167,
     "metadata": {},
     "output_type": "execute_result"
    }
   ],
   "source": [
    "#bala: 100 elements required\n",
    "# x_input=test_data[340:].reshape(1,-1)\n",
    "x_input=test_data[1294:].reshape(1,-1)\n",
    "x_input.shape\n"
   ]
  },
  {
   "cell_type": "code",
   "execution_count": 168,
   "metadata": {},
   "outputs": [
    {
     "data": {
      "text/plain": [
       "(1, 100)"
      ]
     },
     "execution_count": 168,
     "metadata": {},
     "output_type": "execute_result"
    }
   ],
   "source": [
    "x_input.shape"
   ]
  },
  {
   "cell_type": "code",
   "execution_count": null,
   "metadata": {},
   "outputs": [],
   "source": []
  },
  {
   "cell_type": "code",
   "execution_count": 169,
   "metadata": {},
   "outputs": [],
   "source": [
    "temp_input=list(x_input)\n",
    "temp_input=temp_input[0].tolist()"
   ]
  },
  {
   "cell_type": "code",
   "execution_count": 170,
   "metadata": {},
   "outputs": [
    {
     "data": {
      "text/plain": [
       "100"
      ]
     },
     "execution_count": 170,
     "metadata": {},
     "output_type": "execute_result"
    }
   ],
   "source": [
    "# temp_input\n",
    "#bala: added a random element since 100 elements required\n",
    "# temp_input.append(0.09708202880400746)\n",
    "len(temp_input)\n",
    "# temp_input"
   ]
  },
  {
   "cell_type": "code",
   "execution_count": 171,
   "metadata": {},
   "outputs": [
    {
     "name": "stdout",
     "output_type": "stream",
     "text": [
      "[0.9058596]\n",
      "101\n",
      "1 day input [0.86492243 0.86613211 0.8674504  0.86758012 0.87253651 0.88247343\n",
      " 0.88452175 0.88763194 0.88487169 0.87773122 0.88050354 0.88823528\n",
      " 0.88884163 0.88897738 0.89309815 0.90672447 0.91886054 0.91548488\n",
      " 0.92501154 0.93040837 0.93367844 0.93273121 0.93221234 0.93316259\n",
      " 0.93232094 0.93381117 0.94222468 0.94886437 0.94618858 0.93483081\n",
      " 0.94479186 0.94386575 0.96053588 0.96236097 0.9624756  0.95605009\n",
      " 0.95379965 0.94817959 0.94298488 0.95258996 0.96049667 0.94985988\n",
      " 0.95856901 0.96489497 0.9679569  0.97073224 0.98097686 0.99164382\n",
      " 1.         0.99648256 0.98730282 0.98196331 0.97815024 0.97878374\n",
      " 0.98741142 0.98394527 0.96260532 0.95140743 0.96697346 0.96451789\n",
      " 0.96091297 0.96619818 0.97535378 0.97388768 0.97225566 0.96359177\n",
      " 0.97741718 0.97782142 0.97116965 0.96510312 0.95702749 0.93601636\n",
      " 0.94125331 0.93592586 0.94323828 0.91248028 0.91413945 0.90987086\n",
      " 0.92095411 0.93511739 0.92275205 0.9055902  0.92154538 0.9392261\n",
      " 0.94206781 0.94173296 0.93310226 0.9304868  0.92424229 0.92587129\n",
      " 0.90999152 0.88760781 0.89705905 0.9081966  0.91526467 0.91111071\n",
      " 0.91608822 0.92495724 0.92377169 0.90585959]\n",
      "1 day output [[0.88282144]]\n",
      "2 day input [0.86613211 0.8674504  0.86758012 0.87253651 0.88247343 0.88452175\n",
      " 0.88763194 0.88487169 0.87773122 0.88050354 0.88823528 0.88884163\n",
      " 0.88897738 0.89309815 0.90672447 0.91886054 0.91548488 0.92501154\n",
      " 0.93040837 0.93367844 0.93273121 0.93221234 0.93316259 0.93232094\n",
      " 0.93381117 0.94222468 0.94886437 0.94618858 0.93483081 0.94479186\n",
      " 0.94386575 0.96053588 0.96236097 0.9624756  0.95605009 0.95379965\n",
      " 0.94817959 0.94298488 0.95258996 0.96049667 0.94985988 0.95856901\n",
      " 0.96489497 0.9679569  0.97073224 0.98097686 0.99164382 1.\n",
      " 0.99648256 0.98730282 0.98196331 0.97815024 0.97878374 0.98741142\n",
      " 0.98394527 0.96260532 0.95140743 0.96697346 0.96451789 0.96091297\n",
      " 0.96619818 0.97535378 0.97388768 0.97225566 0.96359177 0.97741718\n",
      " 0.97782142 0.97116965 0.96510312 0.95702749 0.93601636 0.94125331\n",
      " 0.93592586 0.94323828 0.91248028 0.91413945 0.90987086 0.92095411\n",
      " 0.93511739 0.92275205 0.9055902  0.92154538 0.9392261  0.94206781\n",
      " 0.94173296 0.93310226 0.9304868  0.92424229 0.92587129 0.90999152\n",
      " 0.88760781 0.89705905 0.9081966  0.91526467 0.91111071 0.91608822\n",
      " 0.92495724 0.92377169 0.90585959 0.88282144]\n",
      "2 day output [[0.8601106]]\n",
      "3 day input [0.8674504  0.86758012 0.87253651 0.88247343 0.88452175 0.88763194\n",
      " 0.88487169 0.87773122 0.88050354 0.88823528 0.88884163 0.88897738\n",
      " 0.89309815 0.90672447 0.91886054 0.91548488 0.92501154 0.93040837\n",
      " 0.93367844 0.93273121 0.93221234 0.93316259 0.93232094 0.93381117\n",
      " 0.94222468 0.94886437 0.94618858 0.93483081 0.94479186 0.94386575\n",
      " 0.96053588 0.96236097 0.9624756  0.95605009 0.95379965 0.94817959\n",
      " 0.94298488 0.95258996 0.96049667 0.94985988 0.95856901 0.96489497\n",
      " 0.9679569  0.97073224 0.98097686 0.99164382 1.         0.99648256\n",
      " 0.98730282 0.98196331 0.97815024 0.97878374 0.98741142 0.98394527\n",
      " 0.96260532 0.95140743 0.96697346 0.96451789 0.96091297 0.96619818\n",
      " 0.97535378 0.97388768 0.97225566 0.96359177 0.97741718 0.97782142\n",
      " 0.97116965 0.96510312 0.95702749 0.93601636 0.94125331 0.93592586\n",
      " 0.94323828 0.91248028 0.91413945 0.90987086 0.92095411 0.93511739\n",
      " 0.92275205 0.9055902  0.92154538 0.9392261  0.94206781 0.94173296\n",
      " 0.93310226 0.9304868  0.92424229 0.92587129 0.90999152 0.88760781\n",
      " 0.89705905 0.9081966  0.91526467 0.91111071 0.91608822 0.92495724\n",
      " 0.92377169 0.90585959 0.88282144 0.86011058]\n",
      "3 day output [[0.84354764]]\n",
      "4 day input [0.86758012 0.87253651 0.88247343 0.88452175 0.88763194 0.88487169\n",
      " 0.87773122 0.88050354 0.88823528 0.88884163 0.88897738 0.89309815\n",
      " 0.90672447 0.91886054 0.91548488 0.92501154 0.93040837 0.93367844\n",
      " 0.93273121 0.93221234 0.93316259 0.93232094 0.93381117 0.94222468\n",
      " 0.94886437 0.94618858 0.93483081 0.94479186 0.94386575 0.96053588\n",
      " 0.96236097 0.9624756  0.95605009 0.95379965 0.94817959 0.94298488\n",
      " 0.95258996 0.96049667 0.94985988 0.95856901 0.96489497 0.9679569\n",
      " 0.97073224 0.98097686 0.99164382 1.         0.99648256 0.98730282\n",
      " 0.98196331 0.97815024 0.97878374 0.98741142 0.98394527 0.96260532\n",
      " 0.95140743 0.96697346 0.96451789 0.96091297 0.96619818 0.97535378\n",
      " 0.97388768 0.97225566 0.96359177 0.97741718 0.97782142 0.97116965\n",
      " 0.96510312 0.95702749 0.93601636 0.94125331 0.93592586 0.94323828\n",
      " 0.91248028 0.91413945 0.90987086 0.92095411 0.93511739 0.92275205\n",
      " 0.9055902  0.92154538 0.9392261  0.94206781 0.94173296 0.93310226\n",
      " 0.9304868  0.92424229 0.92587129 0.90999152 0.88760781 0.89705905\n",
      " 0.9081966  0.91526467 0.91111071 0.91608822 0.92495724 0.92377169\n",
      " 0.90585959 0.88282144 0.86011058 0.84354764]\n",
      "4 day output [[0.83417314]]\n",
      "5 day input [0.87253651 0.88247343 0.88452175 0.88763194 0.88487169 0.87773122\n",
      " 0.88050354 0.88823528 0.88884163 0.88897738 0.89309815 0.90672447\n",
      " 0.91886054 0.91548488 0.92501154 0.93040837 0.93367844 0.93273121\n",
      " 0.93221234 0.93316259 0.93232094 0.93381117 0.94222468 0.94886437\n",
      " 0.94618858 0.93483081 0.94479186 0.94386575 0.96053588 0.96236097\n",
      " 0.9624756  0.95605009 0.95379965 0.94817959 0.94298488 0.95258996\n",
      " 0.96049667 0.94985988 0.95856901 0.96489497 0.9679569  0.97073224\n",
      " 0.98097686 0.99164382 1.         0.99648256 0.98730282 0.98196331\n",
      " 0.97815024 0.97878374 0.98741142 0.98394527 0.96260532 0.95140743\n",
      " 0.96697346 0.96451789 0.96091297 0.96619818 0.97535378 0.97388768\n",
      " 0.97225566 0.96359177 0.97741718 0.97782142 0.97116965 0.96510312\n",
      " 0.95702749 0.93601636 0.94125331 0.93592586 0.94323828 0.91248028\n",
      " 0.91413945 0.90987086 0.92095411 0.93511739 0.92275205 0.9055902\n",
      " 0.92154538 0.9392261  0.94206781 0.94173296 0.93310226 0.9304868\n",
      " 0.92424229 0.92587129 0.90999152 0.88760781 0.89705905 0.9081966\n",
      " 0.91526467 0.91111071 0.91608822 0.92495724 0.92377169 0.90585959\n",
      " 0.88282144 0.86011058 0.84354764 0.83417314]\n",
      "5 day output [[0.8299595]]\n",
      "6 day input [0.88247343 0.88452175 0.88763194 0.88487169 0.87773122 0.88050354\n",
      " 0.88823528 0.88884163 0.88897738 0.89309815 0.90672447 0.91886054\n",
      " 0.91548488 0.92501154 0.93040837 0.93367844 0.93273121 0.93221234\n",
      " 0.93316259 0.93232094 0.93381117 0.94222468 0.94886437 0.94618858\n",
      " 0.93483081 0.94479186 0.94386575 0.96053588 0.96236097 0.9624756\n",
      " 0.95605009 0.95379965 0.94817959 0.94298488 0.95258996 0.96049667\n",
      " 0.94985988 0.95856901 0.96489497 0.9679569  0.97073224 0.98097686\n",
      " 0.99164382 1.         0.99648256 0.98730282 0.98196331 0.97815024\n",
      " 0.97878374 0.98741142 0.98394527 0.96260532 0.95140743 0.96697346\n",
      " 0.96451789 0.96091297 0.96619818 0.97535378 0.97388768 0.97225566\n",
      " 0.96359177 0.97741718 0.97782142 0.97116965 0.96510312 0.95702749\n",
      " 0.93601636 0.94125331 0.93592586 0.94323828 0.91248028 0.91413945\n",
      " 0.90987086 0.92095411 0.93511739 0.92275205 0.9055902  0.92154538\n",
      " 0.9392261  0.94206781 0.94173296 0.93310226 0.9304868  0.92424229\n",
      " 0.92587129 0.90999152 0.88760781 0.89705905 0.9081966  0.91526467\n",
      " 0.91111071 0.91608822 0.92495724 0.92377169 0.90585959 0.88282144\n",
      " 0.86011058 0.84354764 0.83417314 0.82995951]\n",
      "6 day output [[0.82764125]]\n",
      "7 day input [0.88452175 0.88763194 0.88487169 0.87773122 0.88050354 0.88823528\n",
      " 0.88884163 0.88897738 0.89309815 0.90672447 0.91886054 0.91548488\n",
      " 0.92501154 0.93040837 0.93367844 0.93273121 0.93221234 0.93316259\n",
      " 0.93232094 0.93381117 0.94222468 0.94886437 0.94618858 0.93483081\n",
      " 0.94479186 0.94386575 0.96053588 0.96236097 0.9624756  0.95605009\n",
      " 0.95379965 0.94817959 0.94298488 0.95258996 0.96049667 0.94985988\n",
      " 0.95856901 0.96489497 0.9679569  0.97073224 0.98097686 0.99164382\n",
      " 1.         0.99648256 0.98730282 0.98196331 0.97815024 0.97878374\n",
      " 0.98741142 0.98394527 0.96260532 0.95140743 0.96697346 0.96451789\n",
      " 0.96091297 0.96619818 0.97535378 0.97388768 0.97225566 0.96359177\n",
      " 0.97741718 0.97782142 0.97116965 0.96510312 0.95702749 0.93601636\n",
      " 0.94125331 0.93592586 0.94323828 0.91248028 0.91413945 0.90987086\n",
      " 0.92095411 0.93511739 0.92275205 0.9055902  0.92154538 0.9392261\n",
      " 0.94206781 0.94173296 0.93310226 0.9304868  0.92424229 0.92587129\n",
      " 0.90999152 0.88760781 0.89705905 0.9081966  0.91526467 0.91111071\n",
      " 0.91608822 0.92495724 0.92377169 0.90585959 0.88282144 0.86011058\n",
      " 0.84354764 0.83417314 0.82995951 0.82764125]\n",
      "7 day output [[0.8244863]]\n",
      "8 day input [0.88763194 0.88487169 0.87773122 0.88050354 0.88823528 0.88884163\n",
      " 0.88897738 0.89309815 0.90672447 0.91886054 0.91548488 0.92501154\n",
      " 0.93040837 0.93367844 0.93273121 0.93221234 0.93316259 0.93232094\n",
      " 0.93381117 0.94222468 0.94886437 0.94618858 0.93483081 0.94479186\n",
      " 0.94386575 0.96053588 0.96236097 0.9624756  0.95605009 0.95379965\n",
      " 0.94817959 0.94298488 0.95258996 0.96049667 0.94985988 0.95856901\n",
      " 0.96489497 0.9679569  0.97073224 0.98097686 0.99164382 1.\n",
      " 0.99648256 0.98730282 0.98196331 0.97815024 0.97878374 0.98741142\n",
      " 0.98394527 0.96260532 0.95140743 0.96697346 0.96451789 0.96091297\n",
      " 0.96619818 0.97535378 0.97388768 0.97225566 0.96359177 0.97741718\n",
      " 0.97782142 0.97116965 0.96510312 0.95702749 0.93601636 0.94125331\n",
      " 0.93592586 0.94323828 0.91248028 0.91413945 0.90987086 0.92095411\n",
      " 0.93511739 0.92275205 0.9055902  0.92154538 0.9392261  0.94206781\n",
      " 0.94173296 0.93310226 0.9304868  0.92424229 0.92587129 0.90999152\n",
      " 0.88760781 0.89705905 0.9081966  0.91526467 0.91111071 0.91608822\n",
      " 0.92495724 0.92377169 0.90585959 0.88282144 0.86011058 0.84354764\n",
      " 0.83417314 0.82995951 0.82764125 0.82448632]\n"
     ]
    },
    {
     "name": "stdout",
     "output_type": "stream",
     "text": [
      "8 day output [[0.8192494]]\n",
      "9 day input [0.88487169 0.87773122 0.88050354 0.88823528 0.88884163 0.88897738\n",
      " 0.89309815 0.90672447 0.91886054 0.91548488 0.92501154 0.93040837\n",
      " 0.93367844 0.93273121 0.93221234 0.93316259 0.93232094 0.93381117\n",
      " 0.94222468 0.94886437 0.94618858 0.93483081 0.94479186 0.94386575\n",
      " 0.96053588 0.96236097 0.9624756  0.95605009 0.95379965 0.94817959\n",
      " 0.94298488 0.95258996 0.96049667 0.94985988 0.95856901 0.96489497\n",
      " 0.9679569  0.97073224 0.98097686 0.99164382 1.         0.99648256\n",
      " 0.98730282 0.98196331 0.97815024 0.97878374 0.98741142 0.98394527\n",
      " 0.96260532 0.95140743 0.96697346 0.96451789 0.96091297 0.96619818\n",
      " 0.97535378 0.97388768 0.97225566 0.96359177 0.97741718 0.97782142\n",
      " 0.97116965 0.96510312 0.95702749 0.93601636 0.94125331 0.93592586\n",
      " 0.94323828 0.91248028 0.91413945 0.90987086 0.92095411 0.93511739\n",
      " 0.92275205 0.9055902  0.92154538 0.9392261  0.94206781 0.94173296\n",
      " 0.93310226 0.9304868  0.92424229 0.92587129 0.90999152 0.88760781\n",
      " 0.89705905 0.9081966  0.91526467 0.91111071 0.91608822 0.92495724\n",
      " 0.92377169 0.90585959 0.88282144 0.86011058 0.84354764 0.83417314\n",
      " 0.82995951 0.82764125 0.82448632 0.81924939]\n",
      "9 day output [[0.81218904]]\n",
      "10 day input [0.87773122 0.88050354 0.88823528 0.88884163 0.88897738 0.89309815\n",
      " 0.90672447 0.91886054 0.91548488 0.92501154 0.93040837 0.93367844\n",
      " 0.93273121 0.93221234 0.93316259 0.93232094 0.93381117 0.94222468\n",
      " 0.94886437 0.94618858 0.93483081 0.94479186 0.94386575 0.96053588\n",
      " 0.96236097 0.9624756  0.95605009 0.95379965 0.94817959 0.94298488\n",
      " 0.95258996 0.96049667 0.94985988 0.95856901 0.96489497 0.9679569\n",
      " 0.97073224 0.98097686 0.99164382 1.         0.99648256 0.98730282\n",
      " 0.98196331 0.97815024 0.97878374 0.98741142 0.98394527 0.96260532\n",
      " 0.95140743 0.96697346 0.96451789 0.96091297 0.96619818 0.97535378\n",
      " 0.97388768 0.97225566 0.96359177 0.97741718 0.97782142 0.97116965\n",
      " 0.96510312 0.95702749 0.93601636 0.94125331 0.93592586 0.94323828\n",
      " 0.91248028 0.91413945 0.90987086 0.92095411 0.93511739 0.92275205\n",
      " 0.9055902  0.92154538 0.9392261  0.94206781 0.94173296 0.93310226\n",
      " 0.9304868  0.92424229 0.92587129 0.90999152 0.88760781 0.89705905\n",
      " 0.9081966  0.91526467 0.91111071 0.91608822 0.92495724 0.92377169\n",
      " 0.90585959 0.88282144 0.86011058 0.84354764 0.83417314 0.82995951\n",
      " 0.82764125 0.82448632 0.81924939 0.81218904]\n",
      "10 day output [[0.80444604]]\n",
      "11 day input [0.88050354 0.88823528 0.88884163 0.88897738 0.89309815 0.90672447\n",
      " 0.91886054 0.91548488 0.92501154 0.93040837 0.93367844 0.93273121\n",
      " 0.93221234 0.93316259 0.93232094 0.93381117 0.94222468 0.94886437\n",
      " 0.94618858 0.93483081 0.94479186 0.94386575 0.96053588 0.96236097\n",
      " 0.9624756  0.95605009 0.95379965 0.94817959 0.94298488 0.95258996\n",
      " 0.96049667 0.94985988 0.95856901 0.96489497 0.9679569  0.97073224\n",
      " 0.98097686 0.99164382 1.         0.99648256 0.98730282 0.98196331\n",
      " 0.97815024 0.97878374 0.98741142 0.98394527 0.96260532 0.95140743\n",
      " 0.96697346 0.96451789 0.96091297 0.96619818 0.97535378 0.97388768\n",
      " 0.97225566 0.96359177 0.97741718 0.97782142 0.97116965 0.96510312\n",
      " 0.95702749 0.93601636 0.94125331 0.93592586 0.94323828 0.91248028\n",
      " 0.91413945 0.90987086 0.92095411 0.93511739 0.92275205 0.9055902\n",
      " 0.92154538 0.9392261  0.94206781 0.94173296 0.93310226 0.9304868\n",
      " 0.92424229 0.92587129 0.90999152 0.88760781 0.89705905 0.9081966\n",
      " 0.91526467 0.91111071 0.91608822 0.92495724 0.92377169 0.90585959\n",
      " 0.88282144 0.86011058 0.84354764 0.83417314 0.82995951 0.82764125\n",
      " 0.82448632 0.81924939 0.81218904 0.80444604]\n",
      "11 day output [[0.7972503]]\n",
      "12 day input [0.88823528 0.88884163 0.88897738 0.89309815 0.90672447 0.91886054\n",
      " 0.91548488 0.92501154 0.93040837 0.93367844 0.93273121 0.93221234\n",
      " 0.93316259 0.93232094 0.93381117 0.94222468 0.94886437 0.94618858\n",
      " 0.93483081 0.94479186 0.94386575 0.96053588 0.96236097 0.9624756\n",
      " 0.95605009 0.95379965 0.94817959 0.94298488 0.95258996 0.96049667\n",
      " 0.94985988 0.95856901 0.96489497 0.9679569  0.97073224 0.98097686\n",
      " 0.99164382 1.         0.99648256 0.98730282 0.98196331 0.97815024\n",
      " 0.97878374 0.98741142 0.98394527 0.96260532 0.95140743 0.96697346\n",
      " 0.96451789 0.96091297 0.96619818 0.97535378 0.97388768 0.97225566\n",
      " 0.96359177 0.97741718 0.97782142 0.97116965 0.96510312 0.95702749\n",
      " 0.93601636 0.94125331 0.93592586 0.94323828 0.91248028 0.91413945\n",
      " 0.90987086 0.92095411 0.93511739 0.92275205 0.9055902  0.92154538\n",
      " 0.9392261  0.94206781 0.94173296 0.93310226 0.9304868  0.92424229\n",
      " 0.92587129 0.90999152 0.88760781 0.89705905 0.9081966  0.91526467\n",
      " 0.91111071 0.91608822 0.92495724 0.92377169 0.90585959 0.88282144\n",
      " 0.86011058 0.84354764 0.83417314 0.82995951 0.82764125 0.82448632\n",
      " 0.81924939 0.81218904 0.80444604 0.79725027]\n",
      "12 day output [[0.79134655]]\n",
      "13 day input [0.88884163 0.88897738 0.89309815 0.90672447 0.91886054 0.91548488\n",
      " 0.92501154 0.93040837 0.93367844 0.93273121 0.93221234 0.93316259\n",
      " 0.93232094 0.93381117 0.94222468 0.94886437 0.94618858 0.93483081\n",
      " 0.94479186 0.94386575 0.96053588 0.96236097 0.9624756  0.95605009\n",
      " 0.95379965 0.94817959 0.94298488 0.95258996 0.96049667 0.94985988\n",
      " 0.95856901 0.96489497 0.9679569  0.97073224 0.98097686 0.99164382\n",
      " 1.         0.99648256 0.98730282 0.98196331 0.97815024 0.97878374\n",
      " 0.98741142 0.98394527 0.96260532 0.95140743 0.96697346 0.96451789\n",
      " 0.96091297 0.96619818 0.97535378 0.97388768 0.97225566 0.96359177\n",
      " 0.97741718 0.97782142 0.97116965 0.96510312 0.95702749 0.93601636\n",
      " 0.94125331 0.93592586 0.94323828 0.91248028 0.91413945 0.90987086\n",
      " 0.92095411 0.93511739 0.92275205 0.9055902  0.92154538 0.9392261\n",
      " 0.94206781 0.94173296 0.93310226 0.9304868  0.92424229 0.92587129\n",
      " 0.90999152 0.88760781 0.89705905 0.9081966  0.91526467 0.91111071\n",
      " 0.91608822 0.92495724 0.92377169 0.90585959 0.88282144 0.86011058\n",
      " 0.84354764 0.83417314 0.82995951 0.82764125 0.82448632 0.81924939\n",
      " 0.81218904 0.80444604 0.79725027 0.79134655]\n",
      "13 day output [[0.78681135]]\n",
      "14 day input [0.88897738 0.89309815 0.90672447 0.91886054 0.91548488 0.92501154\n",
      " 0.93040837 0.93367844 0.93273121 0.93221234 0.93316259 0.93232094\n",
      " 0.93381117 0.94222468 0.94886437 0.94618858 0.93483081 0.94479186\n",
      " 0.94386575 0.96053588 0.96236097 0.9624756  0.95605009 0.95379965\n",
      " 0.94817959 0.94298488 0.95258996 0.96049667 0.94985988 0.95856901\n",
      " 0.96489497 0.9679569  0.97073224 0.98097686 0.99164382 1.\n",
      " 0.99648256 0.98730282 0.98196331 0.97815024 0.97878374 0.98741142\n",
      " 0.98394527 0.96260532 0.95140743 0.96697346 0.96451789 0.96091297\n",
      " 0.96619818 0.97535378 0.97388768 0.97225566 0.96359177 0.97741718\n",
      " 0.97782142 0.97116965 0.96510312 0.95702749 0.93601636 0.94125331\n",
      " 0.93592586 0.94323828 0.91248028 0.91413945 0.90987086 0.92095411\n",
      " 0.93511739 0.92275205 0.9055902  0.92154538 0.9392261  0.94206781\n",
      " 0.94173296 0.93310226 0.9304868  0.92424229 0.92587129 0.90999152\n",
      " 0.88760781 0.89705905 0.9081966  0.91526467 0.91111071 0.91608822\n",
      " 0.92495724 0.92377169 0.90585959 0.88282144 0.86011058 0.84354764\n",
      " 0.83417314 0.82995951 0.82764125 0.82448632 0.81924939 0.81218904\n",
      " 0.80444604 0.79725027 0.79134655 0.78681135]\n",
      "14 day output [[0.7832126]]\n",
      "15 day input [0.89309815 0.90672447 0.91886054 0.91548488 0.92501154 0.93040837\n",
      " 0.93367844 0.93273121 0.93221234 0.93316259 0.93232094 0.93381117\n",
      " 0.94222468 0.94886437 0.94618858 0.93483081 0.94479186 0.94386575\n",
      " 0.96053588 0.96236097 0.9624756  0.95605009 0.95379965 0.94817959\n",
      " 0.94298488 0.95258996 0.96049667 0.94985988 0.95856901 0.96489497\n",
      " 0.9679569  0.97073224 0.98097686 0.99164382 1.         0.99648256\n",
      " 0.98730282 0.98196331 0.97815024 0.97878374 0.98741142 0.98394527\n",
      " 0.96260532 0.95140743 0.96697346 0.96451789 0.96091297 0.96619818\n",
      " 0.97535378 0.97388768 0.97225566 0.96359177 0.97741718 0.97782142\n",
      " 0.97116965 0.96510312 0.95702749 0.93601636 0.94125331 0.93592586\n",
      " 0.94323828 0.91248028 0.91413945 0.90987086 0.92095411 0.93511739\n",
      " 0.92275205 0.9055902  0.92154538 0.9392261  0.94206781 0.94173296\n",
      " 0.93310226 0.9304868  0.92424229 0.92587129 0.90999152 0.88760781\n",
      " 0.89705905 0.9081966  0.91526467 0.91111071 0.91608822 0.92495724\n",
      " 0.92377169 0.90585959 0.88282144 0.86011058 0.84354764 0.83417314\n",
      " 0.82995951 0.82764125 0.82448632 0.81924939 0.81218904 0.80444604\n",
      " 0.79725027 0.79134655 0.78681135 0.7832126 ]\n",
      "15 day output [[0.779931]]\n",
      "16 day input [0.90672447 0.91886054 0.91548488 0.92501154 0.93040837 0.93367844\n",
      " 0.93273121 0.93221234 0.93316259 0.93232094 0.93381117 0.94222468\n",
      " 0.94886437 0.94618858 0.93483081 0.94479186 0.94386575 0.96053588\n",
      " 0.96236097 0.9624756  0.95605009 0.95379965 0.94817959 0.94298488\n",
      " 0.95258996 0.96049667 0.94985988 0.95856901 0.96489497 0.9679569\n",
      " 0.97073224 0.98097686 0.99164382 1.         0.99648256 0.98730282\n",
      " 0.98196331 0.97815024 0.97878374 0.98741142 0.98394527 0.96260532\n",
      " 0.95140743 0.96697346 0.96451789 0.96091297 0.96619818 0.97535378\n",
      " 0.97388768 0.97225566 0.96359177 0.97741718 0.97782142 0.97116965\n",
      " 0.96510312 0.95702749 0.93601636 0.94125331 0.93592586 0.94323828\n",
      " 0.91248028 0.91413945 0.90987086 0.92095411 0.93511739 0.92275205\n",
      " 0.9055902  0.92154538 0.9392261  0.94206781 0.94173296 0.93310226\n",
      " 0.9304868  0.92424229 0.92587129 0.90999152 0.88760781 0.89705905\n",
      " 0.9081966  0.91526467 0.91111071 0.91608822 0.92495724 0.92377169\n",
      " 0.90585959 0.88282144 0.86011058 0.84354764 0.83417314 0.82995951\n",
      " 0.82764125 0.82448632 0.81924939 0.81218904 0.80444604 0.79725027\n",
      " 0.79134655 0.78681135 0.7832126  0.77993101]\n",
      "16 day output [[0.7764621]]\n",
      "17 day input [0.91886054 0.91548488 0.92501154 0.93040837 0.93367844 0.93273121\n",
      " 0.93221234 0.93316259 0.93232094 0.93381117 0.94222468 0.94886437\n",
      " 0.94618858 0.93483081 0.94479186 0.94386575 0.96053588 0.96236097\n",
      " 0.9624756  0.95605009 0.95379965 0.94817959 0.94298488 0.95258996\n",
      " 0.96049667 0.94985988 0.95856901 0.96489497 0.9679569  0.97073224\n",
      " 0.98097686 0.99164382 1.         0.99648256 0.98730282 0.98196331\n",
      " 0.97815024 0.97878374 0.98741142 0.98394527 0.96260532 0.95140743\n",
      " 0.96697346 0.96451789 0.96091297 0.96619818 0.97535378 0.97388768\n",
      " 0.97225566 0.96359177 0.97741718 0.97782142 0.97116965 0.96510312\n",
      " 0.95702749 0.93601636 0.94125331 0.93592586 0.94323828 0.91248028\n",
      " 0.91413945 0.90987086 0.92095411 0.93511739 0.92275205 0.9055902\n",
      " 0.92154538 0.9392261  0.94206781 0.94173296 0.93310226 0.9304868\n",
      " 0.92424229 0.92587129 0.90999152 0.88760781 0.89705905 0.9081966\n",
      " 0.91526467 0.91111071 0.91608822 0.92495724 0.92377169 0.90585959\n",
      " 0.88282144 0.86011058 0.84354764 0.83417314 0.82995951 0.82764125\n",
      " 0.82448632 0.81924939 0.81218904 0.80444604 0.79725027 0.79134655\n",
      " 0.78681135 0.7832126  0.77993101 0.77646208]\n",
      "17 day output [[0.7725778]]\n",
      "18 day input [0.91548488 0.92501154 0.93040837 0.93367844 0.93273121 0.93221234\n",
      " 0.93316259 0.93232094 0.93381117 0.94222468 0.94886437 0.94618858\n",
      " 0.93483081 0.94479186 0.94386575 0.96053588 0.96236097 0.9624756\n",
      " 0.95605009 0.95379965 0.94817959 0.94298488 0.95258996 0.96049667\n",
      " 0.94985988 0.95856901 0.96489497 0.9679569  0.97073224 0.98097686\n",
      " 0.99164382 1.         0.99648256 0.98730282 0.98196331 0.97815024\n",
      " 0.97878374 0.98741142 0.98394527 0.96260532 0.95140743 0.96697346\n",
      " 0.96451789 0.96091297 0.96619818 0.97535378 0.97388768 0.97225566\n",
      " 0.96359177 0.97741718 0.97782142 0.97116965 0.96510312 0.95702749\n",
      " 0.93601636 0.94125331 0.93592586 0.94323828 0.91248028 0.91413945\n",
      " 0.90987086 0.92095411 0.93511739 0.92275205 0.9055902  0.92154538\n",
      " 0.9392261  0.94206781 0.94173296 0.93310226 0.9304868  0.92424229\n",
      " 0.92587129 0.90999152 0.88760781 0.89705905 0.9081966  0.91526467\n",
      " 0.91111071 0.91608822 0.92495724 0.92377169 0.90585959 0.88282144\n",
      " 0.86011058 0.84354764 0.83417314 0.82995951 0.82764125 0.82448632\n",
      " 0.81924939 0.81218904 0.80444604 0.79725027 0.79134655 0.78681135\n",
      " 0.7832126  0.77993101 0.77646208 0.77257782]\n"
     ]
    },
    {
     "name": "stdout",
     "output_type": "stream",
     "text": [
      "18 day output [[0.76832765]]\n",
      "19 day input [0.92501154 0.93040837 0.93367844 0.93273121 0.93221234 0.93316259\n",
      " 0.93232094 0.93381117 0.94222468 0.94886437 0.94618858 0.93483081\n",
      " 0.94479186 0.94386575 0.96053588 0.96236097 0.9624756  0.95605009\n",
      " 0.95379965 0.94817959 0.94298488 0.95258996 0.96049667 0.94985988\n",
      " 0.95856901 0.96489497 0.9679569  0.97073224 0.98097686 0.99164382\n",
      " 1.         0.99648256 0.98730282 0.98196331 0.97815024 0.97878374\n",
      " 0.98741142 0.98394527 0.96260532 0.95140743 0.96697346 0.96451789\n",
      " 0.96091297 0.96619818 0.97535378 0.97388768 0.97225566 0.96359177\n",
      " 0.97741718 0.97782142 0.97116965 0.96510312 0.95702749 0.93601636\n",
      " 0.94125331 0.93592586 0.94323828 0.91248028 0.91413945 0.90987086\n",
      " 0.92095411 0.93511739 0.92275205 0.9055902  0.92154538 0.9392261\n",
      " 0.94206781 0.94173296 0.93310226 0.9304868  0.92424229 0.92587129\n",
      " 0.90999152 0.88760781 0.89705905 0.9081966  0.91526467 0.91111071\n",
      " 0.91608822 0.92495724 0.92377169 0.90585959 0.88282144 0.86011058\n",
      " 0.84354764 0.83417314 0.82995951 0.82764125 0.82448632 0.81924939\n",
      " 0.81218904 0.80444604 0.79725027 0.79134655 0.78681135 0.7832126\n",
      " 0.77993101 0.77646208 0.77257782 0.76832765]\n",
      "19 day output [[0.76392746]]\n",
      "20 day input [0.93040837 0.93367844 0.93273121 0.93221234 0.93316259 0.93232094\n",
      " 0.93381117 0.94222468 0.94886437 0.94618858 0.93483081 0.94479186\n",
      " 0.94386575 0.96053588 0.96236097 0.9624756  0.95605009 0.95379965\n",
      " 0.94817959 0.94298488 0.95258996 0.96049667 0.94985988 0.95856901\n",
      " 0.96489497 0.9679569  0.97073224 0.98097686 0.99164382 1.\n",
      " 0.99648256 0.98730282 0.98196331 0.97815024 0.97878374 0.98741142\n",
      " 0.98394527 0.96260532 0.95140743 0.96697346 0.96451789 0.96091297\n",
      " 0.96619818 0.97535378 0.97388768 0.97225566 0.96359177 0.97741718\n",
      " 0.97782142 0.97116965 0.96510312 0.95702749 0.93601636 0.94125331\n",
      " 0.93592586 0.94323828 0.91248028 0.91413945 0.90987086 0.92095411\n",
      " 0.93511739 0.92275205 0.9055902  0.92154538 0.9392261  0.94206781\n",
      " 0.94173296 0.93310226 0.9304868  0.92424229 0.92587129 0.90999152\n",
      " 0.88760781 0.89705905 0.9081966  0.91526467 0.91111071 0.91608822\n",
      " 0.92495724 0.92377169 0.90585959 0.88282144 0.86011058 0.84354764\n",
      " 0.83417314 0.82995951 0.82764125 0.82448632 0.81924939 0.81218904\n",
      " 0.80444604 0.79725027 0.79134655 0.78681135 0.7832126  0.77993101\n",
      " 0.77646208 0.77257782 0.76832765 0.76392746]\n",
      "20 day output [[0.7596164]]\n",
      "21 day input [0.93367844 0.93273121 0.93221234 0.93316259 0.93232094 0.93381117\n",
      " 0.94222468 0.94886437 0.94618858 0.93483081 0.94479186 0.94386575\n",
      " 0.96053588 0.96236097 0.9624756  0.95605009 0.95379965 0.94817959\n",
      " 0.94298488 0.95258996 0.96049667 0.94985988 0.95856901 0.96489497\n",
      " 0.9679569  0.97073224 0.98097686 0.99164382 1.         0.99648256\n",
      " 0.98730282 0.98196331 0.97815024 0.97878374 0.98741142 0.98394527\n",
      " 0.96260532 0.95140743 0.96697346 0.96451789 0.96091297 0.96619818\n",
      " 0.97535378 0.97388768 0.97225566 0.96359177 0.97741718 0.97782142\n",
      " 0.97116965 0.96510312 0.95702749 0.93601636 0.94125331 0.93592586\n",
      " 0.94323828 0.91248028 0.91413945 0.90987086 0.92095411 0.93511739\n",
      " 0.92275205 0.9055902  0.92154538 0.9392261  0.94206781 0.94173296\n",
      " 0.93310226 0.9304868  0.92424229 0.92587129 0.90999152 0.88760781\n",
      " 0.89705905 0.9081966  0.91526467 0.91111071 0.91608822 0.92495724\n",
      " 0.92377169 0.90585959 0.88282144 0.86011058 0.84354764 0.83417314\n",
      " 0.82995951 0.82764125 0.82448632 0.81924939 0.81218904 0.80444604\n",
      " 0.79725027 0.79134655 0.78681135 0.7832126  0.77993101 0.77646208\n",
      " 0.77257782 0.76832765 0.76392746 0.75961637]\n",
      "21 day output [[0.75554967]]\n",
      "22 day input [0.93273121 0.93221234 0.93316259 0.93232094 0.93381117 0.94222468\n",
      " 0.94886437 0.94618858 0.93483081 0.94479186 0.94386575 0.96053588\n",
      " 0.96236097 0.9624756  0.95605009 0.95379965 0.94817959 0.94298488\n",
      " 0.95258996 0.96049667 0.94985988 0.95856901 0.96489497 0.9679569\n",
      " 0.97073224 0.98097686 0.99164382 1.         0.99648256 0.98730282\n",
      " 0.98196331 0.97815024 0.97878374 0.98741142 0.98394527 0.96260532\n",
      " 0.95140743 0.96697346 0.96451789 0.96091297 0.96619818 0.97535378\n",
      " 0.97388768 0.97225566 0.96359177 0.97741718 0.97782142 0.97116965\n",
      " 0.96510312 0.95702749 0.93601636 0.94125331 0.93592586 0.94323828\n",
      " 0.91248028 0.91413945 0.90987086 0.92095411 0.93511739 0.92275205\n",
      " 0.9055902  0.92154538 0.9392261  0.94206781 0.94173296 0.93310226\n",
      " 0.9304868  0.92424229 0.92587129 0.90999152 0.88760781 0.89705905\n",
      " 0.9081966  0.91526467 0.91111071 0.91608822 0.92495724 0.92377169\n",
      " 0.90585959 0.88282144 0.86011058 0.84354764 0.83417314 0.82995951\n",
      " 0.82764125 0.82448632 0.81924939 0.81218904 0.80444604 0.79725027\n",
      " 0.79134655 0.78681135 0.7832126  0.77993101 0.77646208 0.77257782\n",
      " 0.76832765 0.76392746 0.75961637 0.75554967]\n",
      "22 day output [[0.751761]]\n",
      "23 day input [0.93221234 0.93316259 0.93232094 0.93381117 0.94222468 0.94886437\n",
      " 0.94618858 0.93483081 0.94479186 0.94386575 0.96053588 0.96236097\n",
      " 0.9624756  0.95605009 0.95379965 0.94817959 0.94298488 0.95258996\n",
      " 0.96049667 0.94985988 0.95856901 0.96489497 0.9679569  0.97073224\n",
      " 0.98097686 0.99164382 1.         0.99648256 0.98730282 0.98196331\n",
      " 0.97815024 0.97878374 0.98741142 0.98394527 0.96260532 0.95140743\n",
      " 0.96697346 0.96451789 0.96091297 0.96619818 0.97535378 0.97388768\n",
      " 0.97225566 0.96359177 0.97741718 0.97782142 0.97116965 0.96510312\n",
      " 0.95702749 0.93601636 0.94125331 0.93592586 0.94323828 0.91248028\n",
      " 0.91413945 0.90987086 0.92095411 0.93511739 0.92275205 0.9055902\n",
      " 0.92154538 0.9392261  0.94206781 0.94173296 0.93310226 0.9304868\n",
      " 0.92424229 0.92587129 0.90999152 0.88760781 0.89705905 0.9081966\n",
      " 0.91526467 0.91111071 0.91608822 0.92495724 0.92377169 0.90585959\n",
      " 0.88282144 0.86011058 0.84354764 0.83417314 0.82995951 0.82764125\n",
      " 0.82448632 0.81924939 0.81218904 0.80444604 0.79725027 0.79134655\n",
      " 0.78681135 0.7832126  0.77993101 0.77646208 0.77257782 0.76832765\n",
      " 0.76392746 0.75961637 0.75554967 0.75176102]\n",
      "23 day output [[0.74818593]]\n",
      "24 day input [0.93316259 0.93232094 0.93381117 0.94222468 0.94886437 0.94618858\n",
      " 0.93483081 0.94479186 0.94386575 0.96053588 0.96236097 0.9624756\n",
      " 0.95605009 0.95379965 0.94817959 0.94298488 0.95258996 0.96049667\n",
      " 0.94985988 0.95856901 0.96489497 0.9679569  0.97073224 0.98097686\n",
      " 0.99164382 1.         0.99648256 0.98730282 0.98196331 0.97815024\n",
      " 0.97878374 0.98741142 0.98394527 0.96260532 0.95140743 0.96697346\n",
      " 0.96451789 0.96091297 0.96619818 0.97535378 0.97388768 0.97225566\n",
      " 0.96359177 0.97741718 0.97782142 0.97116965 0.96510312 0.95702749\n",
      " 0.93601636 0.94125331 0.93592586 0.94323828 0.91248028 0.91413945\n",
      " 0.90987086 0.92095411 0.93511739 0.92275205 0.9055902  0.92154538\n",
      " 0.9392261  0.94206781 0.94173296 0.93310226 0.9304868  0.92424229\n",
      " 0.92587129 0.90999152 0.88760781 0.89705905 0.9081966  0.91526467\n",
      " 0.91111071 0.91608822 0.92495724 0.92377169 0.90585959 0.88282144\n",
      " 0.86011058 0.84354764 0.83417314 0.82995951 0.82764125 0.82448632\n",
      " 0.81924939 0.81218904 0.80444604 0.79725027 0.79134655 0.78681135\n",
      " 0.7832126  0.77993101 0.77646208 0.77257782 0.76832765 0.76392746\n",
      " 0.75961637 0.75554967 0.75176102 0.74818593]\n",
      "24 day output [[0.7447182]]\n",
      "25 day input [0.93232094 0.93381117 0.94222468 0.94886437 0.94618858 0.93483081\n",
      " 0.94479186 0.94386575 0.96053588 0.96236097 0.9624756  0.95605009\n",
      " 0.95379965 0.94817959 0.94298488 0.95258996 0.96049667 0.94985988\n",
      " 0.95856901 0.96489497 0.9679569  0.97073224 0.98097686 0.99164382\n",
      " 1.         0.99648256 0.98730282 0.98196331 0.97815024 0.97878374\n",
      " 0.98741142 0.98394527 0.96260532 0.95140743 0.96697346 0.96451789\n",
      " 0.96091297 0.96619818 0.97535378 0.97388768 0.97225566 0.96359177\n",
      " 0.97741718 0.97782142 0.97116965 0.96510312 0.95702749 0.93601636\n",
      " 0.94125331 0.93592586 0.94323828 0.91248028 0.91413945 0.90987086\n",
      " 0.92095411 0.93511739 0.92275205 0.9055902  0.92154538 0.9392261\n",
      " 0.94206781 0.94173296 0.93310226 0.9304868  0.92424229 0.92587129\n",
      " 0.90999152 0.88760781 0.89705905 0.9081966  0.91526467 0.91111071\n",
      " 0.91608822 0.92495724 0.92377169 0.90585959 0.88282144 0.86011058\n",
      " 0.84354764 0.83417314 0.82995951 0.82764125 0.82448632 0.81924939\n",
      " 0.81218904 0.80444604 0.79725027 0.79134655 0.78681135 0.7832126\n",
      " 0.77993101 0.77646208 0.77257782 0.76832765 0.76392746 0.75961637\n",
      " 0.75554967 0.75176102 0.74818593 0.74471819]\n",
      "25 day output [[0.7412666]]\n",
      "26 day input [0.93381117 0.94222468 0.94886437 0.94618858 0.93483081 0.94479186\n",
      " 0.94386575 0.96053588 0.96236097 0.9624756  0.95605009 0.95379965\n",
      " 0.94817959 0.94298488 0.95258996 0.96049667 0.94985988 0.95856901\n",
      " 0.96489497 0.9679569  0.97073224 0.98097686 0.99164382 1.\n",
      " 0.99648256 0.98730282 0.98196331 0.97815024 0.97878374 0.98741142\n",
      " 0.98394527 0.96260532 0.95140743 0.96697346 0.96451789 0.96091297\n",
      " 0.96619818 0.97535378 0.97388768 0.97225566 0.96359177 0.97741718\n",
      " 0.97782142 0.97116965 0.96510312 0.95702749 0.93601636 0.94125331\n",
      " 0.93592586 0.94323828 0.91248028 0.91413945 0.90987086 0.92095411\n",
      " 0.93511739 0.92275205 0.9055902  0.92154538 0.9392261  0.94206781\n",
      " 0.94173296 0.93310226 0.9304868  0.92424229 0.92587129 0.90999152\n",
      " 0.88760781 0.89705905 0.9081966  0.91526467 0.91111071 0.91608822\n",
      " 0.92495724 0.92377169 0.90585959 0.88282144 0.86011058 0.84354764\n",
      " 0.83417314 0.82995951 0.82764125 0.82448632 0.81924939 0.81218904\n",
      " 0.80444604 0.79725027 0.79134655 0.78681135 0.7832126  0.77993101\n",
      " 0.77646208 0.77257782 0.76832765 0.76392746 0.75961637 0.75554967\n",
      " 0.75176102 0.74818593 0.74471819 0.74126661]\n"
     ]
    },
    {
     "name": "stdout",
     "output_type": "stream",
     "text": [
      "26 day output [[0.7377875]]\n",
      "27 day input [0.94222468 0.94886437 0.94618858 0.93483081 0.94479186 0.94386575\n",
      " 0.96053588 0.96236097 0.9624756  0.95605009 0.95379965 0.94817959\n",
      " 0.94298488 0.95258996 0.96049667 0.94985988 0.95856901 0.96489497\n",
      " 0.9679569  0.97073224 0.98097686 0.99164382 1.         0.99648256\n",
      " 0.98730282 0.98196331 0.97815024 0.97878374 0.98741142 0.98394527\n",
      " 0.96260532 0.95140743 0.96697346 0.96451789 0.96091297 0.96619818\n",
      " 0.97535378 0.97388768 0.97225566 0.96359177 0.97741718 0.97782142\n",
      " 0.97116965 0.96510312 0.95702749 0.93601636 0.94125331 0.93592586\n",
      " 0.94323828 0.91248028 0.91413945 0.90987086 0.92095411 0.93511739\n",
      " 0.92275205 0.9055902  0.92154538 0.9392261  0.94206781 0.94173296\n",
      " 0.93310226 0.9304868  0.92424229 0.92587129 0.90999152 0.88760781\n",
      " 0.89705905 0.9081966  0.91526467 0.91111071 0.91608822 0.92495724\n",
      " 0.92377169 0.90585959 0.88282144 0.86011058 0.84354764 0.83417314\n",
      " 0.82995951 0.82764125 0.82448632 0.81924939 0.81218904 0.80444604\n",
      " 0.79725027 0.79134655 0.78681135 0.7832126  0.77993101 0.77646208\n",
      " 0.77257782 0.76832765 0.76392746 0.75961637 0.75554967 0.75176102\n",
      " 0.74818593 0.74471819 0.74126661 0.73778749]\n",
      "27 day output [[0.7342882]]\n",
      "28 day input [0.94886437 0.94618858 0.93483081 0.94479186 0.94386575 0.96053588\n",
      " 0.96236097 0.9624756  0.95605009 0.95379965 0.94817959 0.94298488\n",
      " 0.95258996 0.96049667 0.94985988 0.95856901 0.96489497 0.9679569\n",
      " 0.97073224 0.98097686 0.99164382 1.         0.99648256 0.98730282\n",
      " 0.98196331 0.97815024 0.97878374 0.98741142 0.98394527 0.96260532\n",
      " 0.95140743 0.96697346 0.96451789 0.96091297 0.96619818 0.97535378\n",
      " 0.97388768 0.97225566 0.96359177 0.97741718 0.97782142 0.97116965\n",
      " 0.96510312 0.95702749 0.93601636 0.94125331 0.93592586 0.94323828\n",
      " 0.91248028 0.91413945 0.90987086 0.92095411 0.93511739 0.92275205\n",
      " 0.9055902  0.92154538 0.9392261  0.94206781 0.94173296 0.93310226\n",
      " 0.9304868  0.92424229 0.92587129 0.90999152 0.88760781 0.89705905\n",
      " 0.9081966  0.91526467 0.91111071 0.91608822 0.92495724 0.92377169\n",
      " 0.90585959 0.88282144 0.86011058 0.84354764 0.83417314 0.82995951\n",
      " 0.82764125 0.82448632 0.81924939 0.81218904 0.80444604 0.79725027\n",
      " 0.79134655 0.78681135 0.7832126  0.77993101 0.77646208 0.77257782\n",
      " 0.76832765 0.76392746 0.75961637 0.75554967 0.75176102 0.74818593\n",
      " 0.74471819 0.74126661 0.73778749 0.73428822]\n",
      "28 day output [[0.7308094]]\n",
      "29 day input [0.94618858 0.93483081 0.94479186 0.94386575 0.96053588 0.96236097\n",
      " 0.9624756  0.95605009 0.95379965 0.94817959 0.94298488 0.95258996\n",
      " 0.96049667 0.94985988 0.95856901 0.96489497 0.9679569  0.97073224\n",
      " 0.98097686 0.99164382 1.         0.99648256 0.98730282 0.98196331\n",
      " 0.97815024 0.97878374 0.98741142 0.98394527 0.96260532 0.95140743\n",
      " 0.96697346 0.96451789 0.96091297 0.96619818 0.97535378 0.97388768\n",
      " 0.97225566 0.96359177 0.97741718 0.97782142 0.97116965 0.96510312\n",
      " 0.95702749 0.93601636 0.94125331 0.93592586 0.94323828 0.91248028\n",
      " 0.91413945 0.90987086 0.92095411 0.93511739 0.92275205 0.9055902\n",
      " 0.92154538 0.9392261  0.94206781 0.94173296 0.93310226 0.9304868\n",
      " 0.92424229 0.92587129 0.90999152 0.88760781 0.89705905 0.9081966\n",
      " 0.91526467 0.91111071 0.91608822 0.92495724 0.92377169 0.90585959\n",
      " 0.88282144 0.86011058 0.84354764 0.83417314 0.82995951 0.82764125\n",
      " 0.82448632 0.81924939 0.81218904 0.80444604 0.79725027 0.79134655\n",
      " 0.78681135 0.7832126  0.77993101 0.77646208 0.77257782 0.76832765\n",
      " 0.76392746 0.75961637 0.75554967 0.75176102 0.74818593 0.74471819\n",
      " 0.74126661 0.73778749 0.73428822 0.73080939]\n",
      "29 day output [[0.72739804]]\n",
      "[[0.9058595895767212], [0.8828214406967163], [0.8601105809211731], [0.8435476422309875], [0.8341731429100037], [0.829959511756897], [0.8276412487030029], [0.8244863152503967], [0.8192493915557861], [0.8121890425682068], [0.8044460415840149], [0.7972502708435059], [0.791346549987793], [0.786811351776123], [0.7832126021385193], [0.7799310088157654], [0.7764620780944824], [0.7725778222084045], [0.7683276534080505], [0.7639274597167969], [0.7596163749694824], [0.7555496692657471], [0.7517610192298889], [0.748185932636261], [0.7447181940078735], [0.7412666082382202], [0.7377874851226807], [0.734288215637207], [0.7308093905448914], [0.7273980379104614]]\n"
     ]
    }
   ],
   "source": [
    "# demonstrate prediction for next 10 days\n",
    "from numpy import array\n",
    "\n",
    "lst_output=[]\n",
    "n_steps=100\n",
    "i=0\n",
    "while(i<30):\n",
    "    \n",
    "    if(len(temp_input)>100):\n",
    "        #print(temp_input)\n",
    "        x_input=np.array(temp_input[1:])\n",
    "        print(\"{} day input {}\".format(i,x_input))\n",
    "        x_input=x_input.reshape(1,-1)\n",
    "        x_input = x_input.reshape((1, n_steps, 1))\n",
    "        #print(x_input)\n",
    "        yhat = model.predict(x_input, verbose=0)\n",
    "        print(\"{} day output {}\".format(i,yhat))\n",
    "        temp_input.extend(yhat[0].tolist())\n",
    "        temp_input=temp_input[1:]\n",
    "        #print(temp_input)\n",
    "        lst_output.extend(yhat.tolist())\n",
    "        i=i+1\n",
    "    else:\n",
    "        x_input = x_input.reshape((1, n_steps,1))\n",
    "        yhat = model.predict(x_input, verbose=0)\n",
    "        print(yhat[0])\n",
    "        temp_input.extend(yhat[0].tolist())\n",
    "        print(len(temp_input))\n",
    "        lst_output.extend(yhat.tolist())\n",
    "        i=i+1\n",
    "    \n",
    "\n",
    "print(lst_output)"
   ]
  },
  {
   "cell_type": "code",
   "execution_count": 176,
   "metadata": {},
   "outputs": [],
   "source": [
    "day_new=np.arange(1,101)\n",
    "day_pred=np.arange(101,131)"
   ]
  },
  {
   "cell_type": "code",
   "execution_count": 178,
   "metadata": {},
   "outputs": [],
   "source": [
    "import matplotlib.pyplot as plt"
   ]
  },
  {
   "cell_type": "code",
   "execution_count": 179,
   "metadata": {},
   "outputs": [
    {
     "data": {
      "text/plain": [
       "3982"
      ]
     },
     "execution_count": 179,
     "metadata": {},
     "output_type": "execute_result"
    }
   ],
   "source": [
    "len(df1)"
   ]
  },
  {
   "cell_type": "code",
   "execution_count": 392,
   "metadata": {},
   "outputs": [],
   "source": []
  },
  {
   "cell_type": "code",
   "execution_count": 185,
   "metadata": {},
   "outputs": [
    {
     "data": {
      "text/plain": [
       "[<matplotlib.lines.Line2D at 0x7f9a32613f98>]"
      ]
     },
     "execution_count": 185,
     "metadata": {},
     "output_type": "execute_result"
    },
    {
     "data": {
      "image/png": "[encoded data removed]",
      "text/plain": [
       "<Figure size 432x288 with 1 Axes>"
      ]
     },
     "metadata": {
      "needs_background": "light"
     },
     "output_type": "display_data"
    }
   ],
   "source": [
    "plt.plot(day_new,scaler.inverse_transform(df1[3882:]))\n",
    "plt.plot(day_pred,scaler.inverse_transform(lst_output))"
   ]
  },
  {
   "cell_type": "code",
   "execution_count": 202,
   "metadata": {},
   "outputs": [
    {
     "data": {
      "text/plain": [
       "[<matplotlib.lines.Line2D at 0x7f9a326a98d0>]"
      ]
     },
     "execution_count": 202,
     "metadata": {},
     "output_type": "execute_result"
    },
    {
     "data": {
      "image/png": "[encoded data removed]",
      "text/plain": [
       "<Figure size 432x288 with 1 Axes>"
      ]
     },
     "metadata": {
      "needs_background": "light"
     },
     "output_type": "display_data"
    }
   ],
   "source": [
    "df3=df1.tolist()\n",
    "df3.extend(lst_output)\n",
    "plt.plot(df3[3500:])"
   ]
  },
  {
   "cell_type": "code",
   "execution_count": 194,
   "metadata": {},
   "outputs": [],
   "source": [
    "df3=scaler.inverse_transform(df3).tolist()"
   ]
  },
  {
   "cell_type": "code",
   "execution_count": 195,
   "metadata": {},
   "outputs": [
    {
     "data": {
      "text/plain": [
       "[<matplotlib.lines.Line2D at 0x7f9a203354e0>]"
      ]
     },
     "execution_count": 195,
     "metadata": {},
     "output_type": "execute_result"
    },
    {
     "data": {
      "image/png": "[encoded data removed]",
      "text/plain": [
       "<Figure size 432x288 with 1 Axes>"
      ]
     },
     "metadata": {
      "needs_background": "light"
     },
     "output_type": "display_data"
    }
   ],
   "source": [
    "plt.plot(df3)"
   ]
  },
  {
   "cell_type": "code",
   "execution_count": null,
   "metadata": {},
   "outputs": [],
   "source": []
  }
 ],
 "metadata": {
  "kernelspec": {
   "display_name": "Python 3",
   "language": "python",
   "name": "python3"
  },
  "language_info": {
   "codemirror_mode": {
    "name": "ipython",
    "version": 3
   },
   "file_extension": ".py",
   "mimetype": "text/x-python",
   "name": "python",
   "nbconvert_exporter": "python",
   "pygments_lexer": "ipython3",
   "version": "3.6.13"
  }
 },
 "nbformat": 4,
 "nbformat_minor": 2
}
